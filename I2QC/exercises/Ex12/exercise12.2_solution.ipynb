{
 "cells": [
  {
   "cell_type": "code",
   "execution_count": 1,
   "metadata": {},
   "outputs": [],
   "source": [
    "import numpy as np"
   ]
  },
  {
   "cell_type": "code",
   "execution_count": 2,
   "metadata": {},
   "outputs": [],
   "source": [
    "def partial_trace(rho, dimA, dimB):\n",
    "    \"\"\"\n",
    "    Compute the partial traces of a density matrix 'rho' of a composite quantum system AB.\n",
    "    \n",
    "    Args:\n",
    "        rho:  density matrix of dimension dimA*dimB x dimA*dimB\n",
    "        dimA: dimension of subsystem A\n",
    "        dimB: dimension of subsystem B\n",
    "    Returns:\n",
    "        tuple: reduced density matrices for subsystems A and B\n",
    "    \"\"\"\n",
    "    # explicit subsystem dimensions\n",
    "    rho = np.reshape(rho, (dimA, dimB, dimA, dimB))\n",
    "    # trace out subsystem B\n",
    "    rhoA = np.trace(rho, axis1=1, axis2=3)\n",
    "    # trace out subsystem A\n",
    "    rhoB = np.trace(rho, axis1=0, axis2=2)\n",
    "    return rhoA, rhoB"
   ]
  },
  {
   "cell_type": "code",
   "execution_count": 3,
   "metadata": {},
   "outputs": [
    {
     "name": "stdout",
     "output_type": "stream",
     "text": [
      "rho:\n",
      " [[0.5 0.  0.  0.5]\n",
      " [0.  0.  0.  0. ]\n",
      " [0.  0.  0.  0. ]\n",
      " [0.5 0.  0.  0.5]] \n",
      "\n",
      "rhoA:\n",
      " [[0.5 0. ]\n",
      " [0.  0.5]] \n",
      "\n",
      "rhoB:\n",
      " [[0.5 0. ]\n",
      " [0.  0.5]] \n",
      "\n"
     ]
    }
   ],
   "source": [
    "# Bell state\n",
    "psi = np.array([1, 0, 0, 1])/np.sqrt(2)\n",
    "\n",
    "# corresponding density matrix\n",
    "rho = np.outer(psi, psi.conj())\n",
    "print('rho:\\n', rho, '\\n')\n",
    "\n",
    "# reduced density matrices, should be equal to I/2\n",
    "rhoA, rhoB = partial_trace(rho, 2, 2)\n",
    "print('rhoA:\\n', rhoA, '\\n')\n",
    "print('rhoB:\\n', rhoB, '\\n')"
   ]
  },
  {
   "cell_type": "code",
   "execution_count": 4,
   "metadata": {},
   "outputs": [],
   "source": [
    "def construct_random_density_matrix(d):\n",
    "    \"\"\"\n",
    "    Construct a complex random density matrix of dimension d x d.\n",
    "    \"\"\"\n",
    "    # ensure that rho is positive semidefinite\n",
    "    A = (np.random.randn(d, d) + 1j*np.random.randn(d, d))/np.sqrt(2)\n",
    "    rho = A @ A.conj().T\n",
    "    # normalization\n",
    "    rho /= np.trace(rho)\n",
    "    return rho"
   ]
  },
  {
   "cell_type": "code",
   "execution_count": 5,
   "metadata": {},
   "outputs": [
    {
     "name": "stdout",
     "output_type": "stream",
     "text": [
      "eigenvalues of rho (should be non-negative):\n",
      " [0.00074176 0.00459048 0.01385865 0.02795645 0.03959625 0.05192732\n",
      " 0.0666723  0.10780375 0.12059444 0.15737978 0.1880992  0.22077961] \n",
      "\n",
      "rhoA.shape: (3, 3)\n",
      "rhoB.shape: (4, 4)\n"
     ]
    }
   ],
   "source": [
    "# rather arbitrary dimensions\n",
    "dimA = 3\n",
    "dimB = 4\n",
    "\n",
    "# specifying a seed leads to reproducible random entries\n",
    "np.random.seed(42)\n",
    "\n",
    "rho = construct_random_density_matrix(dimA*dimB)\n",
    "# show eigenvalues as example\n",
    "print('eigenvalues of rho (should be non-negative):\\n', np.linalg.eigvalsh(rho), '\\n')\n",
    "\n",
    "# reduced density matrices\n",
    "rhoA, rhoB = partial_trace(rho, dimA, dimB)\n",
    "\n",
    "# dimensions\n",
    "print('rhoA.shape:', rhoA.shape) # should be (dimA, dimA)\n",
    "print('rhoB.shape:', rhoB.shape) # should be (dimB, dimB)"
   ]
  },
  {
   "cell_type": "code",
   "execution_count": 6,
   "metadata": {},
   "outputs": [],
   "source": [
    "def construct_random_operator(d):\n",
    "    \"\"\"\n",
    "    Construct a complex random Hermitian matrix of dimension d x d.\n",
    "    \"\"\"\n",
    "    # ensure that M is Hermitian\n",
    "    A = (np.random.randn(d, d) + 1j*np.random.randn(d, d))/np.sqrt(2)\n",
    "    M = 0.5*(A + A.conj().T)\n",
    "    return M"
   ]
  },
  {
   "cell_type": "code",
   "execution_count": 7,
   "metadata": {},
   "outputs": [
    {
     "name": "stdout",
     "output_type": "stream",
     "text": [
      "tr[M rhoA]: (0.19223284916329703+0j)\n",
      "err: 2.7755575615628914e-17\n"
     ]
    }
   ],
   "source": [
    "M = construct_random_operator(dimA)\n",
    "\n",
    "print('tr[M rhoA]:', np.trace(M @ rhoA))\n",
    "\n",
    "# average value of M x I on composite quantum system should match average value of M on subsystem A\n",
    "err = np.abs(np.trace(np.kron(M, np.identity(dimB)) @ rho) - np.trace(M @ rhoA))\n",
    "print('err:', err)"
   ]
  }
 ],
 "metadata": {
  "kernelspec": {
   "display_name": "Python 3",
   "language": "python",
   "name": "python3"
  },
  "language_info": {
   "codemirror_mode": {
    "name": "ipython",
    "version": 3
   },
   "file_extension": ".py",
   "mimetype": "text/x-python",
   "name": "python",
   "nbconvert_exporter": "python",
   "pygments_lexer": "ipython3",
   "version": "3.8.4"
  }
 },
 "nbformat": 4,
 "nbformat_minor": 4
}
