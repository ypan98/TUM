{
 "cells": [
  {
   "cell_type": "markdown",
   "metadata": {},
   "source": [
    "# Tutorial 4 Solution"
   ]
  },
  {
   "cell_type": "code",
   "execution_count": 1,
   "metadata": {},
   "outputs": [],
   "source": [
    "import numpy as np"
   ]
  },
  {
   "cell_type": "code",
   "execution_count": 2,
   "metadata": {},
   "outputs": [],
   "source": [
    "# matrix representation of some basic quantum gates\n",
    "H = 1/np.sqrt(2) * np.array([[1, 1], [1,-1]])\n",
    "X = np.array([[0, 1], [1, 0]])\n",
    "Z = np.array([[1, 0], [0,-1]])\n",
    "CNOT  = np.array([[1, 0, 0, 0], [0, 1, 0, 0], [0, 0, 0, 1], [0, 0, 1, 0]])\n",
    "rCNOT = np.array([[1, 0, 0, 0], [0, 0, 0, 1], [0, 0, 1, 0], [0, 1, 0, 0]])"
   ]
  },
  {
   "cell_type": "code",
   "execution_count": 3,
   "metadata": {},
   "outputs": [
    {
     "data": {
      "text/plain": [
       "array([[1, 0, 0, 0],\n",
       "       [0, 0, 0, 1],\n",
       "       [0, 0, 1, 0],\n",
       "       [0, 1, 0, 0]])"
      ]
     },
     "execution_count": 3,
     "metadata": {},
     "output_type": "execute_result"
    }
   ],
   "source": [
    "# \"reversed\" CNOT gate: second qubit is control and first qubit is target\n",
    "rCNOT"
   ]
  },
  {
   "cell_type": "markdown",
   "metadata": {},
   "source": [
    "### T4(b) -  There is a Hadamard acting on the first qubit, and identities on the remaining three."
   ]
  },
  {
   "cell_type": "code",
   "execution_count": 4,
   "metadata": {},
   "outputs": [
    {
     "name": "stdout",
     "output_type": "stream",
     "text": [
      "Dimensions: (16, 16)\n",
      "[[ 0.70710678  0.          0.          0.          0.          0.\n",
      "   0.          0.          0.70710678  0.          0.          0.\n",
      "   0.          0.          0.          0.        ]\n",
      " [ 0.          0.70710678  0.          0.          0.          0.\n",
      "   0.          0.          0.          0.70710678  0.          0.\n",
      "   0.          0.          0.          0.        ]\n",
      " [ 0.          0.          0.70710678  0.          0.          0.\n",
      "   0.          0.          0.          0.          0.70710678  0.\n",
      "   0.          0.          0.          0.        ]\n",
      " [ 0.          0.          0.          0.70710678  0.          0.\n",
      "   0.          0.          0.          0.          0.          0.70710678\n",
      "   0.          0.          0.          0.        ]\n",
      " [ 0.          0.          0.          0.          0.70710678  0.\n",
      "   0.          0.          0.          0.          0.          0.\n",
      "   0.70710678  0.          0.          0.        ]\n",
      " [ 0.          0.          0.          0.          0.          0.70710678\n",
      "   0.          0.          0.          0.          0.          0.\n",
      "   0.          0.70710678  0.          0.        ]\n",
      " [ 0.          0.          0.          0.          0.          0.\n",
      "   0.70710678  0.          0.          0.          0.          0.\n",
      "   0.          0.          0.70710678  0.        ]\n",
      " [ 0.          0.          0.          0.          0.          0.\n",
      "   0.          0.70710678  0.          0.          0.          0.\n",
      "   0.          0.          0.          0.70710678]\n",
      " [ 0.70710678  0.          0.          0.          0.          0.\n",
      "   0.          0.         -0.70710678 -0.         -0.         -0.\n",
      "  -0.         -0.         -0.         -0.        ]\n",
      " [ 0.          0.70710678  0.          0.          0.          0.\n",
      "   0.          0.         -0.         -0.70710678 -0.         -0.\n",
      "  -0.         -0.         -0.         -0.        ]\n",
      " [ 0.          0.          0.70710678  0.          0.          0.\n",
      "   0.          0.         -0.         -0.         -0.70710678 -0.\n",
      "  -0.         -0.         -0.         -0.        ]\n",
      " [ 0.          0.          0.          0.70710678  0.          0.\n",
      "   0.          0.         -0.         -0.         -0.         -0.70710678\n",
      "  -0.         -0.         -0.         -0.        ]\n",
      " [ 0.          0.          0.          0.          0.70710678  0.\n",
      "   0.          0.         -0.         -0.         -0.         -0.\n",
      "  -0.70710678 -0.         -0.         -0.        ]\n",
      " [ 0.          0.          0.          0.          0.          0.70710678\n",
      "   0.          0.         -0.         -0.         -0.         -0.\n",
      "  -0.         -0.70710678 -0.         -0.        ]\n",
      " [ 0.          0.          0.          0.          0.          0.\n",
      "   0.70710678  0.         -0.         -0.         -0.         -0.\n",
      "  -0.         -0.         -0.70710678 -0.        ]\n",
      " [ 0.          0.          0.          0.          0.          0.\n",
      "   0.          0.70710678 -0.         -0.         -0.         -0.\n",
      "  -0.         -0.         -0.         -0.70710678]]\n"
     ]
    }
   ],
   "source": [
    "H1 = np.kron(H, np.eye(8))\n",
    "print(\"Dimensions:\", H1.shape)\n",
    "print(H1)"
   ]
  },
  {
   "cell_type": "markdown",
   "metadata": {},
   "source": [
    "### Quick test for T4(c)"
   ]
  },
  {
   "cell_type": "markdown",
   "metadata": {},
   "source": [
    "The next cell will result in a memory error. Some computers terminate the process early, some may try to allocate as much memory as possible before failing. If yours is the second type, stop the process manually."
   ]
  },
  {
   "cell_type": "code",
   "execution_count": 5,
   "metadata": {},
   "outputs": [],
   "source": [
    "# np.kron(H, np.eye(2**19))"
   ]
  },
  {
   "cell_type": "markdown",
   "metadata": {},
   "source": [
    "### T4(d & e) Matrix-free implemention of single- and two-qubit gates"
   ]
  },
  {
   "cell_type": "code",
   "execution_count": 6,
   "metadata": {},
   "outputs": [],
   "source": [
    "def apply_hadamard(psi, i):\n",
    "    \"\"\"\n",
    "    Applies the Hadamard gate to qubit `i` (counting from 0) of the input quantum statevector `psi`.\n",
    "    \"\"\"\n",
    "    N = int(np.log2(len(psi)))\n",
    "    psi = np.reshape(psi, (2**i, 2, 2**(N-i-1)))\n",
    "    psi_out = psi.copy()\n",
    "    psi_out[:, 0, :] = (psi[:, 0, :] + psi[:, 1, :]) / np.sqrt(2)\n",
    "    psi_out[:, 1, :] = (psi[:, 0, :] - psi[:, 1, :]) / np.sqrt(2)\n",
    "    return psi_out.reshape(-1)"
   ]
  },
  {
   "cell_type": "code",
   "execution_count": 7,
   "metadata": {},
   "outputs": [],
   "source": [
    "def crandn(size):\n",
    "    \"\"\"\n",
    "    Draw random samples from the standard complex normal (Gaussian) distribution.\n",
    "    \"\"\"\n",
    "    # 1/sqrt(2) is a normalization factor\n",
    "    return (np.random.normal(size=size) + 1j*np.random.normal(size=size)) / np.sqrt(2)"
   ]
  },
  {
   "cell_type": "code",
   "execution_count": 8,
   "metadata": {},
   "outputs": [
    {
     "name": "stdout",
     "output_type": "stream",
     "text": [
      "Apply Hadamard on first qubit correct?: True\n"
     ]
    }
   ],
   "source": [
    "# test using a random input state\n",
    "ψtest = crandn(2**4)\n",
    "ψtest /= np.linalg.norm(ψtest)\n",
    "\n",
    "print(\"Apply Hadamard on first qubit correct?:\", np.allclose(H1 @ ψtest, apply_hadamard(ψtest, 0)))"
   ]
  },
  {
   "cell_type": "code",
   "execution_count": 9,
   "metadata": {},
   "outputs": [],
   "source": [
    "def apply_X(psi, i):\n",
    "    \"\"\"\n",
    "    Applies X to qubit `i` (counting from 0) of input quantum statevector `psi`.\n",
    "    \"\"\"\n",
    "    N = int(np.log2(len(psi)))\n",
    "    psi = np.reshape(psi, (2**i, 2, 2**(N-i-1)))\n",
    "    psi_out = psi.copy()\n",
    "    psi_out[:, 0, :] = psi[:, 1, :]\n",
    "    psi_out[:, 1, :] = psi[:, 0, :]\n",
    "    return psi_out.reshape(-1)"
   ]
  },
  {
   "cell_type": "code",
   "execution_count": 10,
   "metadata": {},
   "outputs": [
    {
     "name": "stdout",
     "output_type": "stream",
     "text": [
      "Apply X on third qubit correct?: True\n"
     ]
    }
   ],
   "source": [
    "print(\"Apply X on third qubit correct?:\", np.allclose(np.kron(np.eye(4), np.kron(X, np.eye(2))) @ ψtest, apply_X(ψtest, 2)))"
   ]
  },
  {
   "cell_type": "code",
   "execution_count": 11,
   "metadata": {},
   "outputs": [],
   "source": [
    "def apply_Z(psi, i):\n",
    "    \"\"\"\n",
    "    Applies Z to qubit `i` (counting from 0) of input quantum statevector `psi`.\n",
    "    \"\"\"\n",
    "    N = int(np.log2(len(psi)))\n",
    "    psi = np.reshape(psi, (2**i, 2, 2**(N-i-1)))\n",
    "    psi_out = psi.copy()\n",
    "    psi_out[:, 1, :] = -psi[:, 1, :]\n",
    "    return psi_out.reshape(-1)"
   ]
  },
  {
   "cell_type": "code",
   "execution_count": 12,
   "metadata": {},
   "outputs": [
    {
     "name": "stdout",
     "output_type": "stream",
     "text": [
      "Apply Z on fourth qubit correct?: True\n"
     ]
    }
   ],
   "source": [
    "print(\"Apply Z on fourth qubit correct?:\", np.allclose(np.kron(np.eye(8), Z) @ ψtest, apply_Z(ψtest, 3)))"
   ]
  },
  {
   "cell_type": "code",
   "execution_count": 13,
   "metadata": {},
   "outputs": [],
   "source": [
    "def apply_CNOT(psi, i_control, i_target):\n",
    "    \"\"\"\n",
    "    Apply CNOT for specified control and target qubits.\n",
    "    \"\"\"\n",
    "    assert i_control !=  i_target\n",
    "    N = int(np.log2(len(psi)))\n",
    "\n",
    "    if i_control < i_target:\n",
    "        psi = np.reshape(psi, (2**i_control, 2, 2**(i_target-i_control-1), 2, 2**(N-i_target-1)))\n",
    "        psi_out = psi.copy()\n",
    "        psi_out[:, 1, :, 0, :] = psi[:, 1, :, 1, :]\n",
    "        psi_out[:, 1, :, 1, :] = psi[:, 1, :, 0, :]\n",
    "    else:\n",
    "        psi = np.reshape(psi, (2**i_target, 2, 2**(i_control-i_target-1), 2, 2**(N-i_control-1)))\n",
    "        psi_out = psi.copy()\n",
    "        psi_out[:, 0, :, 1, :] = psi[:, 1, :, 1, :]\n",
    "        psi_out[:, 1, :, 1, :] = psi[:, 0, :, 1, :]\n",
    "    return psi_out.reshape(-1)"
   ]
  },
  {
   "cell_type": "code",
   "execution_count": 14,
   "metadata": {},
   "outputs": [
    {
     "name": "stdout",
     "output_type": "stream",
     "text": [
      "Apply CNOT with first qubit as control, second as target. Correct?: True\n"
     ]
    }
   ],
   "source": [
    "print(\"Apply CNOT with first qubit as control, second as target. Correct?:\", np.allclose(np.kron(CNOT, np.eye(4)) @ ψtest, apply_CNOT(ψtest, 0, 1)))"
   ]
  },
  {
   "cell_type": "code",
   "execution_count": 15,
   "metadata": {},
   "outputs": [
    {
     "name": "stdout",
     "output_type": "stream",
     "text": [
      "Apply CNOT with second qubit as control, first as target. Correct?: True\n"
     ]
    }
   ],
   "source": [
    "print(\"Apply CNOT with second qubit as control, first as target. Correct?:\", np.allclose(np.kron(rCNOT, np.eye(4)) @ ψtest, apply_CNOT(ψtest, 1, 0)))"
   ]
  },
  {
   "cell_type": "code",
   "execution_count": 16,
   "metadata": {},
   "outputs": [],
   "source": [
    "# To test the implementation using the circuit from the tutorial, we first assemble the corresponding overall unitary matrix (as reference).\n",
    "CNOT21 = np.kron(rCNOT, np.eye(4))\n",
    "X3 = np.kron(np.eye(4), np.kron(X, np.eye(2)))\n",
    "Z4 = np.kron(np.eye(8), Z)\n",
    "U = Z4 @ X3 @ CNOT21 @ H1"
   ]
  },
  {
   "cell_type": "code",
   "execution_count": 17,
   "metadata": {},
   "outputs": [],
   "source": [
    "# ...now we apply the gates one-by-one:\n",
    "ϕ1 = apply_hadamard(ψtest, 0)\n",
    "ϕ2 = apply_CNOT(ϕ1, 1, 0)\n",
    "ϕ3 = apply_X(ϕ2, 2)\n",
    "ϕ4 = apply_Z(ϕ3, 3)"
   ]
  },
  {
   "cell_type": "code",
   "execution_count": 18,
   "metadata": {},
   "outputs": [
    {
     "name": "stdout",
     "output_type": "stream",
     "text": [
      "Output state matches: True\n"
     ]
    }
   ],
   "source": [
    "print(\"Output state matches:\", np.allclose(U @ ψtest, ϕ4))"
   ]
  }
 ],
 "metadata": {
  "kernelspec": {
   "display_name": "Python 3",
   "language": "python",
   "name": "python3"
  },
  "language_info": {
   "codemirror_mode": {
    "name": "ipython",
    "version": 3
   },
   "file_extension": ".py",
   "mimetype": "text/x-python",
   "name": "python",
   "nbconvert_exporter": "python",
   "pygments_lexer": "ipython3",
   "version": "3.8.4"
  }
 },
 "nbformat": 4,
 "nbformat_minor": 4
}
