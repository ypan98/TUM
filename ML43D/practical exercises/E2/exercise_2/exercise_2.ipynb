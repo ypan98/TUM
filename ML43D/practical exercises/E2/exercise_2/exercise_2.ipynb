{
 "cells": [
  {
   "cell_type": "markdown",
   "metadata": {
    "collapsed": true,
    "pycharm": {
     "name": "#%% md\n"
    }
   },
   "source": [
    "# Exercise 2: Shape Classification and Segmentation\n",
    "\n",
    "**Submission Deadline**: 31.05.2022, 23:55\n",
    "\n",
    "In this exercise, we will dive into Machine Learning on 3D shapes by taking a look at shape classification and segmentation."
   ]
  },
  {
   "cell_type": "markdown",
   "metadata": {
    "pycharm": {
     "name": "#%% md\n"
    }
   },
   "source": [
    "## 2.0. Running this notebook\n",
    "We recommend running this notebook on a cuda compatible local gpu. You can also run training on cpu, it will just take longer.\n",
    "\n",
    "We describe two options for executing the training parts of this exercise below: Using Google Colab or running it locally on your machine. If you are not planning on using Colab, just skip forward to Local Execution.\n",
    "\n",
    "### Google Colab\n",
    "\n",
    "If you don't have access to gpu and don't wish to train on CPU, you can use Google Colab. However, we experienced the issue that inline visualization of shapes or inline images didn't work on colab, so just keep that in mind.\n",
    "What you can also do is only train networks on colab, download the checkpoint, and visualize inference locally.\n",
    "\n",
    "In case you're using Google Colab, you can upload the exercise folder (containing `exercise_2.ipynb`, directory `exercise_2` and the file `requirements.txt`) as `3d-machine-learning` to google drive (make sure you don't upload extracted datasets files).\n",
    "Additionally you'd need to open the notebook `exercise_2.ipynb` in Colab using `File > Open Notebook > Upload`.\n",
    "\n",
    "Next you'll need to run these two cells for setting up the environment. Before you do that make sure your instance has a GPU."
   ]
  },
  {
   "cell_type": "code",
   "execution_count": 1,
   "metadata": {
    "pycharm": {
     "name": "#%%\n"
    }
   },
   "outputs": [],
   "source": [
    "# import os\n",
    "# from google.colab import drive\n",
    "# drive.mount('/content/drive', force_remount=True)\n",
    "#\n",
    "# # We assume you uploaded the exercise folder in root Google Drive folder\n",
    "#\n",
    "# !cp -r /content/drive/MyDrive/3d-machine-learning 3d-machine-learning/\n",
    "# os.chdir('/content/3d-machine-learning/')\n",
    "# print('Installing requirements')\n",
    "# !pip install -r requirements.txt\n",
    "#\n",
    "# # Make sure you restart runtime when directed by Colab"
   ]
  },
  {
   "cell_type": "markdown",
   "metadata": {
    "pycharm": {
     "name": "#%% md\n"
    }
   },
   "source": [
    "Run this cell after restarting your colab runtime"
   ]
  },
  {
   "cell_type": "code",
   "execution_count": 1,
   "metadata": {
    "pycharm": {
     "name": "#%%\n"
    }
   },
   "outputs": [],
   "source": [
    "# import os\n",
    "# import sys\n",
    "# import torch\n",
    "# os.chdir('/content/3d-machine-learning/')\n",
    "# sys.path.insert(1, \"/content/3d-machine-learning/\")\n",
    "# print('CUDA availability:', torch.cuda.is_available())"
   ]
  },
  {
   "cell_type": "markdown",
   "metadata": {
    "pycharm": {
     "name": "#%% md\n"
    }
   },
   "source": [
    "### Local Execution\n",
    "\n",
    "If you run this notebook locally, you have to first install the python dependiencies again. They are the same as for exercise 1 so you can re-use the environment you used last time. If you use [poetry](https://python-poetry.org), you can also simply re-install everything (`poetry install`) and then run this notebook via `poetry run jupyter notebook`."
   ]
  },
  {
   "cell_type": "markdown",
   "metadata": {
    "pycharm": {
     "name": "#%% md\n"
    }
   },
   "source": [
    "### Imports\n",
    "\n",
    "The following imports should work regardless of whether you are using Colab or local execution."
   ]
  },
  {
   "cell_type": "code",
   "execution_count": 1,
   "metadata": {
    "pycharm": {
     "name": "#%%\n"
    }
   },
   "outputs": [],
   "source": [
    "%load_ext autoreload\n",
    "%autoreload 2\n",
    "from pathlib import Path\n",
    "import numpy as np\n",
    "import matplotlib as plt\n",
    "import k3d\n",
    "import trimesh\n",
    "import torch"
   ]
  },
  {
   "cell_type": "markdown",
   "metadata": {
    "pycharm": {
     "name": "#%% md\n"
    }
   },
   "source": [
    "Use the next cell to test whether a GPU was detected by pytorch."
   ]
  },
  {
   "cell_type": "code",
   "execution_count": 4,
   "metadata": {
    "pycharm": {
     "name": "#%%\n"
    }
   },
   "outputs": [
    {
     "data": {
      "text/plain": [
       "True"
      ]
     },
     "execution_count": 4,
     "metadata": {},
     "output_type": "execute_result"
    }
   ],
   "source": [
    "torch.cuda.is_available()"
   ]
  },
  {
   "cell_type": "markdown",
   "metadata": {
    "pycharm": {
     "name": "#%% md\n"
    }
   },
   "source": [
    "## 2.1. ShapeNet Terms of Use\n",
    "\n",
    "We provide pre-processed shapes from the [ShapeNet](//shapenet.org) database for this exercise. ShapeNet is an ongoing effort to establish a richly-annotated, large-scale dataset of 3D shapes and is a collaborative effort between researchers at Princeton, Stanford and TTIC.\n",
    "\n",
    "<img src=\"exercise_2/images/shapenet.png\" alt=\"shapenet\" style=\"width: 512px;\"/>\n",
    "\n",
    "In order to be able to use the data, we ask you to read and agree to their Terms of Use as stated below (this is a requirement for passing this exercise):\n",
    "\n",
    "1. Researcher shall use the Database only for non-commercial research and educational purposes.\n",
    "2. Princeton University and Stanford University make no representations or warranties regarding the Database, including but not limited to warranties of non-infringement or fitness for a particular purpose.\n",
    "3. Researcher accepts full responsibility for his or her use of the Database and shall defend and indemnify Princeton University and Stanford University, including their employees, Trustees, officers and agents, against any and all claims arising from Researcher's use of the Database, including but not limited to Researcher's use of any copies of copyrighted 3D models that he or she may create from the Database.\n",
    "4. Researcher may provide research associates and colleagues with access to the Database provided that they first agree to be bound by these terms and conditions.\n",
    "5. Princeton University and Stanford University reserve the right to terminate Researcher's access to the Database at any time.\n",
    "6. If Researcher is employed by a for-profit, commercial entity, Researcher's employer shall also be bound by these terms and conditions, and Researcher hereby represents that he or she is fully authorized to enter into this agreement on behalf of such employer.\n",
    "7. The law of the State of New Jersey shall apply to all disputes under this agreement.\n",
    "\n",
    "To agree, simply type `I agree to the Terms of Use` in the next code cell."
   ]
  },
  {
   "cell_type": "code",
   "execution_count": 5,
   "metadata": {
    "pycharm": {
     "name": "#%%\n"
    }
   },
   "outputs": [],
   "source": [
    "# I agree to the Terms of Use"
   ]
  },
  {
   "cell_type": "markdown",
   "metadata": {
    "pycharm": {
     "name": "#%% md\n"
    }
   },
   "source": [
    "## 2.2. A simple 3D CNN with pytorch\n",
    "\n",
    "Here, we will create a very simple 3D Convolutional Neural Network on some toy data. This is meant as a quick introduction into the pytorch framework if you haven't used it yet. It will cover everything you need to know for the following parts of the exercise; if you want to go into a bit more detail about the framework, a good place to start is the official [pytorch quickstart tutorial](https://pytorch.org/tutorials/beginner/basics/quickstart_tutorial.html).\n",
    "\n",
    "A very useful resource if you want to know more about a certain class or function are the [official docs](https://pytorch.org/docs/stable/index.html). Take a minute to look at the documentation of a [Tensor](https://pytorch.org/docs/stable/tensors.html?highlight=tensor#torch.Tensor) which is the data structure pytorch uses throughout their APIs. It is comparable to a numpy array, with added functionality such as the ability to move seamlessly between cpu host memory and cuda device memory or the integrated autograd functionality for automatic differentiation. Most importantly, you can create a tensor from a numpy array with `torch.from_numpy(array)` and the other way around with `array = tensor.numpy()`.\n",
    "\n",
    "Our objective with this 3D CNN is to simply classify if a given SDF is containing a sphere or a torus. The data is generated the same way we did it in the last exercise (we randomize the shape parameters a bit so the task is not too trivial). Each such sample has a scalar label associated with it, either 0 or 1, depending on the shape it contains.\n",
    "\n",
    "All of the implementation in this part will take place in `exercise_2/simple_nn.py`. This makes sense for now but note that we would usually spread things over multiple different files like in the following exercise parts.\n",
    "\n",
    "The important bits we need for every training in pytorch are:\n",
    "1. The **dataset** implementation. This is a class responsible for providing the data used by the training procedure sample-by-sample. In its simplest form, it just loads data samples (eg. point clouds or voxel grids) from disk. However, it is usually also used to transform raw data from disk into the correct format and to apply various kinds of augmentations.\n",
    "2. The network definition (\"**model**\") that we want to train. It specifies the network structure (number and type of layers, activation functions, normalization layers etc.) as well as how exactly input data is processed.\n",
    "3. The **loss function**: For classification, this is usually a Cross Entropy Loss; we will also see reconstruction losses like l1 and l2 in exercise 3.\n",
    "4. The **optimizer**: Usually chosen from a set of pre-defined classes like SGD or ADAM.\n",
    "5. The **training loop**: For each batch of data, it does the following: Loads data from the dataloader, passes it through the model (\"forward pass\"), computes the loss, calculates the gradients (\"backward pass\"), and finally, adjusts the network weights using the optimizer.\n",
    "\n",
    "Let's walk through everything step-by-step:"
   ]
  },
  {
   "cell_type": "markdown",
   "metadata": {
    "pycharm": {
     "name": "#%% md\n"
    }
   },
   "source": [
    "### (a) Dataset\n",
    "\n",
    "We start by implementing the data source, which is called `Dataset` in pytorch. Take a look at the `SimpleDataset` class, it contains everything we have to implement to make it work:\n",
    "1. The `__init__` function that takes paramters and prepares the dataset by setting paths etc. Here, the one thing you always have to do is to load at least a list of samples you want to use - they don't have to be loaded from disk yet, but you need to know which and how many samples there are. This usually also depends on the current split - you use a different set of samples for training than for validation or testing.\n",
    "2. The `__len__` function that returns the total number of samples. In most cases, this will simply be the length of the list of samples you prepared in `__init__`.\n",
    "3. The `__getitem__` function. This is where the actual dataloading takes place. The function gets an index between 0 and the length you returned with `__len__`. Your job is then to return some data corresponding to the index. You do not need to worry about putting data onto the GPU here yet; instead, you load the data and return a tuple containing numpy arrays and other data like sample ids you might need in your training loop. Overall, you should take the index parameter in this function, find the sample id it belongs to, load that data, and then return it in a format that can be used in the training loop.\n",
    "\n",
    "Note that it is also fine to load all data into a list in the `__init__` function for small datasets like our toy dataset in this exercise part. You would then just index this pre-loaded data in your `__getitem__` function.\n",
    "\n",
    "Add and implement functions `__init__`, `__len__`, and `__getitem__` in class `SimpleDataset`. \n",
    "\n",
    "First, implement `__init__`: It takes a single parameter (called `split`) that determines if we are using train or val split at the moment. Based on that, it should generate toy data: 4096 samples if the split is train and 1024 if it is val. Use `generate_toy_data` from `exercise_2/util/toy_data.py` for this which generates two numpy arrays: The first one containing sphere and torus SDFs generated with randomized parameters and the second one classification labels, a 0 if the corresponding SDF in the first array is a sphere and 1 if it is a torus.\n",
    "\n",
    "Then, implement `__len__` by simply returning the length of the data you generated in `__init__`.\n",
    "\n",
    "Lastly, implement `__getitem__` which takes an integer index and returns a tuple: A numpy array containing the input SDF volume as generated by `generate_toy_data` before and a scalar value that represents the target class label for this volume.\n",
    "\n",
    "Note: You have to add an additional dimension of size 1 to the input volume you return in `__getitem__` to make everything work later on, i.e. instead of returning a numpy array of shape (32, 32, 32), you should return an array of shape (1, 32, 32, 32).\n",
    "\n",
    "Test your implementation with the checks below:"
   ]
  },
  {
   "cell_type": "code",
   "execution_count": 8,
   "metadata": {
    "pycharm": {
     "name": "#%%\n"
    }
   },
   "outputs": [
    {
     "name": "stdout",
     "output_type": "stream",
     "text": [
      "Generating toy data ...\n",
      "Generating toy data ...\n",
      "Length of train set: 4096\n",
      "Length of val set: 1024\n",
      "(1, 32, 32, 32)\n",
      "Class = 0\n",
      "(1, 32, 32, 32)\n",
      "Class = 1\n"
     ]
    }
   ],
   "source": [
    "from exercise_2.simple_nn import SimpleDataset\n",
    "\n",
    "# Create datasets with train and val splits\n",
    "train_dataset = SimpleDataset('train')\n",
    "val_dataset = SimpleDataset('val')\n",
    "\n",
    "# Test lengths\n",
    "print(f'Length of train set: {len(train_dataset)}')  # expected output: 4096\n",
    "print(f'Length of val set: {len(val_dataset)}')  # expected output: 1024\n",
    "\n",
    "# Get sample at index 0\n",
    "train_sample = train_dataset[0]\n",
    "print(train_sample[0].shape)  # Expected output (1, 32, 32, 32) (the leading 1 is important for later)\n",
    "print(f\"Class = {train_sample[1]}\")  # Expected output: Scalar value 0\n",
    "val_sample = val_dataset[-1]\n",
    "print(val_sample[0].shape)  # Expected output (1, 32, 32, 32) (the leading 1 is important for later)\n",
    "print(f\"Class = {val_sample[1]}\")  # Expected output: Scalar value 1"
   ]
  },
  {
   "cell_type": "code",
   "execution_count": 9,
   "metadata": {
    "pycharm": {
     "name": "#%%\n"
    }
   },
   "outputs": [
    {
     "name": "stdout",
     "output_type": "stream",
     "text": [
      "Creating SDF visualization for 32^3 grid ...\n",
      "Exported to D:\\TUM\\ML3D\\E2\\exercise_2\\toy_data.ply\n"
     ]
    }
   ],
   "source": [
    "from exercise_2.util.visualization import visualize_sdf\n",
    "\n",
    "train_sample = train_dataset[0]\n",
    "visualize_sdf(train_sample[0].squeeze(0), filename=Path.cwd() / 'toy_data.ply')"
   ]
  },
  {
   "cell_type": "markdown",
   "metadata": {
    "pycharm": {
     "name": "#%% md\n"
    }
   },
   "source": [
    "### (b) Model\n",
    "The model is defined in class `SimpleModel`. Two functions are important here: `__init__` which sets up the architecture by instantiating layers with the correct parameters and adapting them to possible input parameters and `forward` which takes an input tensor (we call it `x` here). The output of `forward` is another tensor that contains the result of the network - in our case, this is a vector of logits which will then be used for classification. It could also be a volume of labels if you do segmentation or a volume of the same size as the input if you do reconstruction.\n",
    "\n",
    "Analogous to `forward`, you could also define a custom `backward` function that describes how to calculate the gradients for your model. However, this is not necessary for most architectures as pytorch's autograd implementation takes care of all of that.\n",
    "\n",
    "For now, we will implement a very simple model: We stack together three 3D Convolution layers and have a fully connected layer at the end for classification. This is a schematic for the overall model structure:\n",
    "<img src=\"exercise_2/images/simplenn.png\" alt=\"simplenn_architecture\" style=\"width: 512px;\"/>\n",
    "\n",
    "Each layer starts with a 3d convolution, followed by a batch normalization layer and a ReLU activation function. We left the implementation of the first layer in there; your task is to fill out the missing parts in `__init__` for layers 2 and 3 (use the same parameters as for the first convolution: kernel size 4, stride 3, padding 1). Each convolution should double the number of feature channels, such that you get a volume of size 16 x 1 x 1 x 1 after layer 3. You also need to define the ReLU and the fully connected layer (for this, use `torch.nn.Linear` to reduce the number of dimensions from 16 to 2).\n",
    "\n",
    "In `forward`, you can repeat the first line to move the input tensor through all three convolutional layers. Then, reshape the resulting tensor to dimension batchsize x 16 (the batch size is always the first dimension) and apply the linear layer to it. Return the result as-is.\n",
    "\n",
    "Hint: The ease of debugging is one of the main reasons why pytorch is preferred in research over alternatives like tensorflow. You can set breakpoints in the `forward` function and watch as the input tensor gets modified by each layer to find bugs or things like wrongly calculated convolution parameters.\n",
    "\n",
    "Use the following sanity checks to verify your model:"
   ]
  },
  {
   "cell_type": "code",
   "execution_count": 10,
   "metadata": {
    "pycharm": {
     "name": "#%%\n"
    }
   },
   "outputs": [
    {
     "name": "stdout",
     "output_type": "stream",
     "text": [
      "  | Name  | Type        | Params\n",
      "--------------------------------------\n",
      "0 | conv1 | Conv3d      | 260   \n",
      "1 | bn1   | BatchNorm3d | 8     \n",
      "2 | conv2 | Conv3d      | 2056  \n",
      "3 | bn2   | BatchNorm3d | 16    \n",
      "4 | conv3 | Conv3d      | 8208  \n",
      "5 | bn3   | BatchNorm3d | 32    \n",
      "6 | fc    | Linear      | 34    \n",
      "7 | relu  | ReLU        | 0     \n",
      "8 | TOTAL | SimpleModel | 10614 \n",
      "Output tensor shape:  torch.Size([32, 2])\n"
     ]
    }
   ],
   "source": [
    "from exercise_2.simple_nn import SimpleModel\n",
    "from exercise_2.util.model import summarize_model\n",
    "\n",
    "simple_nn = SimpleModel()\n",
    "print(summarize_model(simple_nn))  # Expected: Rows 0-8 and TOTAL = 10614\n",
    "\n",
    "input_tensor = torch.randn(32, 1, 32, 32, 32)\n",
    "predictions = simple_nn(input_tensor)\n",
    "\n",
    "print('Output tensor shape: ', predictions.shape)  # Expected: torch.Size([32, 2])"
   ]
  },
  {
   "cell_type": "markdown",
   "metadata": {
    "pycharm": {
     "name": "#%% md\n"
    }
   },
   "source": [
    "### (c) Training"
   ]
  },
  {
   "cell_type": "markdown",
   "metadata": {
    "pycharm": {
     "name": "#%% md\n"
    }
   },
   "source": [
    "We already laid out most of the code structure you need to start training once you have your dataset and model defined. This code usually does not change much between projects; this is why there exist many different libraries to simplify it even more (you can take a look at pytorch lightning for example if you are interested). We will stick to the standard pytorch way of doing things for these exercises.\n",
    "\n",
    "The most important things left to do are:\n",
    "1. Define the data loaders. They take the samples you provide in your dataset implementation and take care of loading multiple samples in parallel, shuffling the dataset, and combining samples into batches.\n",
    "2. Define a loss function. For classification, this is usually `torch.nn.CrossEntropyLoss`\n",
    "3. Instantiate the optimizer. Mostly, this will be ADAM (`torch.optim.Adam`) unless you have a good reason to use another one.\n",
    "4. Implement the training loop: Get a batch of data from the data loader, move it to the GPU, perform a forward pass, compute the loss, calculate gradients in the backward pass, adjust weights in an optimizer step, repeat.\n",
    "\n",
    "Note: You have to move some stuff to the correct compute device (usually the GPU) by calling `.to(device)`: The model and loss function as well as the data you get from each batch.\n",
    "\n",
    "Take a look at the structure of `main` since you will also use it for the next exercise parts and fill in code in `train` at the blanks marked with TODO. Then, start the training below. For this exercise, we don't care too much about the results since it is a very easy classification task anyways. Your model should be able to get to > 98% validation accuracy, though. You can stop the training once that is the case."
   ]
  },
  {
   "cell_type": "code",
   "execution_count": 1,
   "metadata": {
    "scrolled": true,
    "pycharm": {
     "name": "#%%\n"
    }
   },
   "outputs": [
    {
     "name": "stdout",
     "output_type": "stream",
     "text": [
      "Using device: cuda:0\n",
      "Generating toy data ...\n",
      "Generating toy data ...\n",
      "[000/00099] train_loss: 0.304\n",
      "[000/00099] val_loss: 0.175, val_accuracy: 95.703%\n",
      "[001/00071] train_loss: 0.114\n",
      "[001/00071] val_loss: 0.123, val_accuracy: 96.680%\n",
      "[002/00043] train_loss: 0.056\n",
      "[002/00043] val_loss: 0.106, val_accuracy: 97.266%\n",
      "[003/00015] train_loss: 0.014\n",
      "[003/00015] val_loss: 0.086, val_accuracy: 98.633%\n",
      "[003/00115] train_loss: 0.093\n",
      "[003/00115] val_loss: 0.074, val_accuracy: 97.559%\n",
      "[004/00087] train_loss: 0.083\n",
      "[004/00087] val_loss: 0.057, val_accuracy: 98.047%\n",
      "[005/00059] train_loss: 0.057\n",
      "[005/00059] val_loss: 0.081, val_accuracy: 99.023%\n",
      "[006/00031] train_loss: 0.033\n",
      "[006/00031] val_loss: 0.088, val_accuracy: 97.363%\n",
      "[007/00003] train_loss: 0.003\n",
      "[007/00003] val_loss: 0.061, val_accuracy: 98.438%\n",
      "[007/00103] train_loss: 0.069\n",
      "[007/00103] val_loss: 0.052, val_accuracy: 98.828%\n",
      "[008/00075] train_loss: 0.046\n",
      "[008/00075] val_loss: 0.049, val_accuracy: 98.730%\n",
      "[009/00047] train_loss: 0.025\n",
      "[009/00047] val_loss: 0.043, val_accuracy: 99.121%\n",
      "[010/00019] train_loss: 0.011\n",
      "[010/00019] val_loss: 0.039, val_accuracy: 99.316%\n",
      "[010/00119] train_loss: 0.057\n",
      "[010/00119] val_loss: 0.053, val_accuracy: 98.633%\n",
      "[011/00091] train_loss: 0.067\n",
      "[011/00091] val_loss: 0.045, val_accuracy: 98.535%\n",
      "[012/00063] train_loss: 0.035\n",
      "[012/00063] val_loss: 0.070, val_accuracy: 97.949%\n",
      "[013/00035] train_loss: 0.023\n",
      "[013/00035] val_loss: 0.060, val_accuracy: 98.633%\n",
      "[014/00007] train_loss: 0.008\n",
      "[014/00007] val_loss: 0.049, val_accuracy: 98.926%\n",
      "[014/00107] train_loss: 0.055\n",
      "[014/00107] val_loss: 0.041, val_accuracy: 98.926%\n",
      "[015/00079] train_loss: 0.050\n",
      "[015/00079] val_loss: 0.039, val_accuracy: 99.219%\n",
      "[016/00051] train_loss: 0.019\n",
      "[016/00051] val_loss: 0.040, val_accuracy: 99.023%\n",
      "[017/00023] train_loss: 0.014\n",
      "[017/00023] val_loss: 0.055, val_accuracy: 99.414%\n",
      "[017/00123] train_loss: 0.049\n",
      "[017/00123] val_loss: 0.035, val_accuracy: 99.414%\n",
      "[018/00095] train_loss: 0.053\n",
      "[018/00095] val_loss: 0.042, val_accuracy: 98.828%\n",
      "[019/00067] train_loss: 0.021\n",
      "[019/00067] val_loss: 0.031, val_accuracy: 99.414%\n",
      "[020/00039] train_loss: 0.024\n",
      "[020/00039] val_loss: 0.035, val_accuracy: 99.121%\n",
      "[021/00011] train_loss: 0.005\n",
      "[021/00011] val_loss: 0.062, val_accuracy: 99.316%\n",
      "[021/00111] train_loss: 0.042\n",
      "[021/00111] val_loss: 0.034, val_accuracy: 99.414%\n",
      "[022/00083] train_loss: 0.023\n",
      "[022/00083] val_loss: 0.038, val_accuracy: 99.414%\n",
      "[023/00055] train_loss: 0.045\n",
      "[023/00055] val_loss: 0.121, val_accuracy: 94.141%\n",
      "[024/00027] train_loss: 0.017\n",
      "[024/00027] val_loss: 0.052, val_accuracy: 98.730%\n",
      "[024/00127] train_loss: 0.065\n",
      "[024/00127] val_loss: 0.035, val_accuracy: 99.219%\n",
      "[025/00099] train_loss: 0.046\n",
      "[025/00099] val_loss: 0.036, val_accuracy: 99.219%\n",
      "[026/00071] train_loss: 0.025\n",
      "[026/00071] val_loss: 0.033, val_accuracy: 99.414%\n",
      "[027/00043] train_loss: 0.014\n",
      "[027/00043] val_loss: 0.030, val_accuracy: 99.414%\n",
      "[028/00015] train_loss: 0.007\n",
      "[028/00015] val_loss: 0.027, val_accuracy: 99.414%\n",
      "[028/00115] train_loss: 0.031\n",
      "[028/00115] val_loss: 0.030, val_accuracy: 99.414%\n",
      "[029/00087] train_loss: 0.039\n",
      "[029/00087] val_loss: 0.037, val_accuracy: 99.219%\n",
      "[030/00059] train_loss: 0.023\n",
      "[030/00059] val_loss: 0.033, val_accuracy: 99.316%\n",
      "[031/00031] train_loss: 0.014\n",
      "[031/00031] val_loss: 0.036, val_accuracy: 99.414%\n",
      "[032/00003] train_loss: 0.003\n",
      "[032/00003] val_loss: 0.045, val_accuracy: 98.828%\n",
      "[032/00103] train_loss: 0.035\n",
      "[032/00103] val_loss: 0.029, val_accuracy: 99.414%\n",
      "[033/00075] train_loss: 0.024\n",
      "[033/00075] val_loss: 0.047, val_accuracy: 99.316%\n",
      "[034/00047] train_loss: 0.010\n",
      "[034/00047] val_loss: 0.031, val_accuracy: 99.414%\n",
      "[035/00019] train_loss: 0.009\n",
      "[035/00019] val_loss: 0.036, val_accuracy: 99.414%\n",
      "[035/00119] train_loss: 0.036\n",
      "[035/00119] val_loss: 0.026, val_accuracy: 99.414%\n",
      "[036/00091] train_loss: 0.024\n",
      "[036/00091] val_loss: 0.222, val_accuracy: 87.891%\n",
      "[037/00063] train_loss: 0.045\n",
      "[037/00063] val_loss: 0.041, val_accuracy: 98.828%\n",
      "[038/00035] train_loss: 0.018\n",
      "[038/00035] val_loss: 0.031, val_accuracy: 99.316%\n",
      "[039/00007] train_loss: 0.001\n",
      "[039/00007] val_loss: 0.030, val_accuracy: 99.316%\n",
      "[039/00107] train_loss: 0.042\n",
      "[039/00107] val_loss: 0.030, val_accuracy: 99.414%\n",
      "[040/00079] train_loss: 0.030\n",
      "[040/00079] val_loss: 0.030, val_accuracy: 99.414%\n",
      "[041/00051] train_loss: 0.017\n",
      "[041/00051] val_loss: 0.029, val_accuracy: 99.414%\n",
      "[042/00023] train_loss: 0.006\n",
      "[042/00023] val_loss: 0.033, val_accuracy: 99.414%\n",
      "[042/00123] train_loss: 0.047\n",
      "[042/00123] val_loss: 0.030, val_accuracy: 99.316%\n",
      "[043/00095] train_loss: 0.030\n",
      "[043/00095] val_loss: 0.031, val_accuracy: 99.414%\n",
      "[044/00067] train_loss: 0.018\n",
      "[044/00067] val_loss: 0.027, val_accuracy: 99.414%\n",
      "[045/00039] train_loss: 0.019\n",
      "[045/00039] val_loss: 0.041, val_accuracy: 99.121%\n",
      "[046/00011] train_loss: 0.001\n",
      "[046/00011] val_loss: 0.030, val_accuracy: 99.414%\n",
      "[046/00111] train_loss: 0.032\n",
      "[046/00111] val_loss: 0.028, val_accuracy: 99.414%\n",
      "[047/00083] train_loss: 0.032\n",
      "[047/00083] val_loss: 0.034, val_accuracy: 99.414%\n",
      "[048/00055] train_loss: 0.013\n",
      "[048/00055] val_loss: 0.031, val_accuracy: 99.414%\n",
      "[049/00027] train_loss: 0.009\n",
      "[049/00027] val_loss: 0.035, val_accuracy: 99.219%\n",
      "[049/00127] train_loss: 0.029\n",
      "[049/00127] val_loss: 0.032, val_accuracy: 99.219%\n"
     ]
    }
   ],
   "source": [
    "from exercise_2 import simple_nn\n",
    "\n",
    "config={\n",
    "    'experiment_name': '2_2_simple_nn',\n",
    "    'device': 'cuda:0',  # change this to cpu if you do not have a GPU\n",
    "    'batch_size': 32,\n",
    "    'resume_ckpt': None,\n",
    "    'learning_rate': 0.001,\n",
    "    'max_epochs': 50,\n",
    "    'print_every_n': 100,\n",
    "    'validate_every_n': 100\n",
    "}\n",
    "\n",
    "simple_nn.main(config)  # should have val_accuracy > 99%"
   ]
  },
  {
   "cell_type": "markdown",
   "metadata": {
    "pycharm": {
     "name": "#%% md\n"
    }
   },
   "source": [
    "That's it! In the following parts, we will now move on to more complicated problems and more involved network models."
   ]
  },
  {
   "cell_type": "markdown",
   "metadata": {
    "pycharm": {
     "name": "#%% md\n"
    }
   },
   "source": [
    "## 2.3. Shape Classification using 3DCNN\n",
    "\n",
    "### (a) Download and extract voxelized ShapeNet training data"
   ]
  },
  {
   "cell_type": "markdown",
   "metadata": {
    "pycharm": {
     "name": "#%% md\n"
    }
   },
   "source": [
    "Each folder in the `exercise_2/data/ShapeNetVox32` directory represents a shape category represented by a number, e.g. `02691156`.\n",
    "We provide the mapping between these numbers and the corresponding names in `exercise_2/data/shape_info.json`. Each of these shape category folders contains a number of shapes\n",
    "represented as voxels and stored in a `binvox` format.\n",
    "\n",
    "```\n",
    "# contents of exercise_2/data/ShapeNetVox32\n",
    "\n",
    "02691156/                                   # Shape category folder with all it's shapes\n",
    "    ├── 1a04e3eab45ca15dd86060f189eb133/    # A single shape of the category\n",
    "        ├── model.binvox                    # Voxel representation of the shape in binvox format\n",
    "    ├── 1a6ad7a24bb89733f412783097373bdc/   # Another shape of the category\n",
    "    ├── 1a9b552befd6306cc8f2d5fe7449af61/\n",
    "    ├── :                                   # And so on ...\n",
    "    ├── :\n",
    "02828884/                                   # Another shape category folder\n",
    "02933112/                                   # In total you should have 13 shape category folders\n",
    ":\n",
    ":\n",
    "```"
   ]
  },
  {
   "cell_type": "code",
   "execution_count": null,
   "metadata": {
    "pycharm": {
     "name": "#%%\n"
    }
   },
   "outputs": [],
   "source": [
    "print('Downloading ...')\n",
    "!wget http://cvgl.stanford.edu/data2/ShapeNetVox32.tgz -P exercise_2/data\n",
    "print('Extracting ...')\n",
    "!tar -xzf exercise_2/data/ShapeNetVox32.tgz -C exercise_2/data\n",
    "!rm exercise_2/data/ShapeNetVox32.tgz\n",
    "print('Done.')"
   ]
  },
  {
   "cell_type": "markdown",
   "metadata": {
    "pycharm": {
     "name": "#%% md\n"
    }
   },
   "source": [
    "### (b) Dataloading and exploring the data\n",
    "\n",
    "We already provide you with a training and validation split in files `train.txt` and `val.txt` in folder `exercise_2/data/splits/shapenet`.\n",
    "All the shapes in the list `train.txt` make up the training samples, while all the samples in `val.txt` constitute the validation set.\n",
    "Additionally, we provide `overfit.txt` as the set of shapes we'll use for overfitting / debugging later.\n",
    "\n",
    "Now let's write a Pytorch Dataset class that can load this data from the disk. Check out `ShapeNetVox` class in file `exercise_2/data/shapenet.py`\n",
    "for a partial implementation of such a dataset.\n",
    "\n",
    "The dataset class is instantiated with the type of the split, e.g. `train`, `val` or `overfit` and loads all\n",
    "shape names for that split as a list in its member variable `self.items`. The class also provides utility method `get_shape_voxels(shapenet_id)`\n",
    "which given a `shapenet_id` of the form `<shape_class>/<shape_identifier>` returns a 32x32x32 numpy array representing the voxels of the shape.\n",
    "The class also provides a list of all shape categories as the static member `ShapeNetVox.classes`.\n",
    "\n",
    "Your task is to fill out the missing implementations of functions `__getitem__` and `__len__` as specified by their docstrings.\n",
    "Once done, test your implementation below."
   ]
  },
  {
   "cell_type": "code",
   "execution_count": 2,
   "metadata": {
    "pycharm": {
     "name": "#%%\n"
    }
   },
   "outputs": [],
   "source": [
    "from exercise_2.data.shapenet import ShapeNetVox\n",
    "# Let's test your implementation"
   ]
  },
  {
   "cell_type": "code",
   "execution_count": 3,
   "metadata": {
    "pycharm": {
     "name": "#%%\n"
    }
   },
   "outputs": [
    {
     "name": "stdout",
     "output_type": "stream",
     "text": [
      "Length of train set: 21705\n"
     ]
    }
   ],
   "source": [
    "# Create a dataset with train split\n",
    "trainset = ShapeNetVox('train')\n",
    "\n",
    "# Get length, which is a call to __len__ function\n",
    "print(f'Length of train set: {len(trainset)}')  # expected output: 21705"
   ]
  },
  {
   "cell_type": "code",
   "execution_count": 4,
   "metadata": {
    "pycharm": {
     "name": "#%%\n"
    }
   },
   "outputs": [
    {
     "name": "stdout",
     "output_type": "stream",
     "text": [
      "Length of validation set: 5426\n"
     ]
    }
   ],
   "source": [
    "# Create a dataset with val split and print its length\n",
    "valset = ShapeNetVox('val')\n",
    "print(f'Length of validation set: {len(valset)}')  # expected output: 5426"
   ]
  },
  {
   "cell_type": "code",
   "execution_count": 5,
   "metadata": {
    "pycharm": {
     "name": "#%%\n"
    }
   },
   "outputs": [
    {
     "name": "stdout",
     "output_type": "stream",
     "text": [
      "Name: 04379243/d120d47f8c9bc5028640bc5712201c4a\n",
      "Voxel Dimensions: (1, 32, 32, 32)\n",
      "Label: 10 | 04379243\n"
     ]
    },
    {
     "data": {
      "application/vnd.jupyter.widget-view+json": {
       "model_id": "127c94d242624bc28ed56aff98562787",
       "version_major": 2,
       "version_minor": 0
      },
      "text/plain": [
       "Output()"
      ]
     },
     "metadata": {},
     "output_type": "display_data"
    }
   ],
   "source": [
    "# Visualize some shapes\n",
    "from exercise_2.util.visualization import visualize_occupancy\n",
    "\n",
    "shape_data = trainset[0]\n",
    "\n",
    "print(f'Name: {shape_data[\"name\"]}')  # expected output: 04379243/d120d47f8c9bc5028640bc5712201c4a\n",
    "print(f'Voxel Dimensions: {shape_data[\"voxel\"].shape}')  # expected output: (1, 32, 32, 32)\n",
    "print(f'Label: {shape_data[\"label\"]} | {ShapeNetVox.classes[shape_data[\"label\"]]}')  # expected output: 10, 04379243\n",
    "\n",
    "visualize_occupancy(shape_data[\"voxel\"].squeeze(), flip_axes=True)"
   ]
  },
  {
   "cell_type": "code",
   "execution_count": 6,
   "metadata": {
    "pycharm": {
     "name": "#%%\n"
    }
   },
   "outputs": [
    {
     "name": "stdout",
     "output_type": "stream",
     "text": [
      "Name: 03211117/edfc3a8ecc5b07e9feb0fb1dff94c98a\n",
      "Voxel Dimensions: (1, 32, 32, 32)\n",
      "Label: 5 | 03211117\n"
     ]
    },
    {
     "data": {
      "application/vnd.jupyter.widget-view+json": {
       "model_id": "6bd855966f6b486dbfa9bc0a6920ed69",
       "version_major": 2,
       "version_minor": 0
      },
      "text/plain": [
       "Output()"
      ]
     },
     "metadata": {},
     "output_type": "display_data"
    }
   ],
   "source": [
    "shape_data = trainset[7]\n",
    "print(f'Name: {shape_data[\"name\"]}')  # expected output: 03211117/edfc3a8ecc5b07e9feb0fb1dff94c98a\n",
    "print(f'Voxel Dimensions: {shape_data[\"voxel\"].shape}')  # expected output: (1, 32, 32, 32)\n",
    "print(f'Label: {shape_data[\"label\"]} | {ShapeNetVox.classes[shape_data[\"label\"]]}')  # expected output: 5, 03211117\n",
    "\n",
    "visualize_occupancy(shape_data[\"voxel\"].squeeze(), flip_axes=True)"
   ]
  },
  {
   "cell_type": "code",
   "execution_count": null,
   "outputs": [],
   "source": [],
   "metadata": {
    "collapsed": false,
    "pycharm": {
     "name": "#%%\n"
    }
   }
  },
  {
   "cell_type": "markdown",
   "metadata": {
    "pycharm": {
     "name": "#%% md\n"
    }
   },
   "source": [
    "### (a) Download and prepare the ShapeNetPointClouds dataset\n",
    "We generated point clouds from ShapeNet meshes via uniform sampling. Each point cloud contains 1024 xyz points.\n",
    "\n",
    "The data layout is basically the same as in 2.3.:\n",
    "Each folder in the `exercise_2/data/ShapeNetPointClouds` directory contains one shape category represented by a number, e.g. `02691156`.\n",
    "We provide the mapping between these numbers and the corresponding names in `exercise_2/data/shape_info.json`. Each of these shape category folders contains a number of shapes in obj format.\n",
    "\n",
    "```\n",
    "# contents of exercise_2/data/ShapeNetPointClouds\n",
    "\n",
    "02691156/                                      # Shape category folder with all its shapes\n",
    "    ├── 1a04e3eab45ca15dd86060f189eb133.obj    # A single shape of the category\n",
    "    ├── 1a6ad7a24bb89733f412783097373bdc.obj   # Another shape of the category\n",
    "    ├── :                                      # And so on ...\n",
    "    ├── :\n",
    "02828884/                                      # Another shape category folder\n",
    "02933112/                                      # In total you should have 13 shape category folders\n",
    ":\n",
    ":\n",
    "```\n",
    "print('Downloading ...')\n",
    "!wget https://www.christian-diller.de/ShapeNetPointClouds.zip -P exercise_2/data\n",
    "print('Extracting ...')\n",
    "!unzip -q exercise_2/data/ShapeNetPointClouds.zip -d exercise_2/data\n",
    "!rm exercise_2/data/ShapeNetPointClouds.zip\n",
    "print('Done.')"
   ]
  },
  {
   "cell_type": "markdown",
   "metadata": {
    "pycharm": {
     "name": "#%% md\n"
    }
   },
   "source": [
    "### (b) Dataset implementation\n",
    "\n",
    "You can use the same split setup as in 2.3: `overfit.txt` for overfitting, `train.txt` for the train samples, and `val.txt` for the val samples in folder `exercise_2/data/splits/shapenet`.\n",
    "\n",
    "The dataset implementation will therefore be very similar to the one from 2.3: Fill out the missing implementations of functions `__getitem__` and `__len__` in class `ShapeNetPoints` in `exercise_2/data/shapenet.py`.\n",
    "\n",
    "The major difference is how the actual data is loaded: We don't have regular voxel grids anymore and instead load arrays of 1024 points each. In `__getitem__`, we now return 'points' instead of 'voxel' and for loading the point clouds, we use `get_point_cloud` instead of `get_shape_voxels`. You can load the point cloud data either by hand (since it is in the same obj format you used in exercise 1) or simply use `trimesh.load`. The point clouds you return from `__getitem__` should have shape 3 x 1024 and datatype `np.float32`.\n",
    "\n",
    "Otherwise, the implementation is very much the same as in 2.3. Once done, test your implementation below."
   ]
  },
  {
   "cell_type": "code",
   "execution_count": 14,
   "metadata": {
    "pycharm": {
     "name": "#%%\n"
    }
   },
   "outputs": [
    {
     "name": "stdout",
     "output_type": "stream",
     "text": [
      "Length of train set: 21705\n",
      "Length of val set: 5426\n",
      "Length of overfit set: 64\n"
     ]
    }
   ],
   "source": [
    "from exercise_2.data.shapenet import ShapeNetPoints\n",
    "\n",
    "# Create a dataset with train split\n",
    "train_dataset = ShapeNetPoints('train')\n",
    "val_dataset = ShapeNetPoints('val')\n",
    "overfit_dataset = ShapeNetPoints('overfit')\n",
    "\n",
    "# Get length, which is a call to __len__ function\n",
    "print(f'Length of train set: {len(train_dataset)}')  # expected output: 21705\n",
    "# Get length, which is a call to __len__ function\n",
    "print(f'Length of val set: {len(val_dataset)}')  # expected output: 5426\n",
    "# Get length, which is a call to __len__ function\n",
    "print(f'Length of overfit set: {len(overfit_dataset)}')  # expected output: 64"
   ]
  },
  {
   "cell_type": "code",
   "execution_count": 15,
   "metadata": {
    "pycharm": {
     "name": "#%%\n"
    }
   },
   "outputs": [
    {
     "name": "stdout",
     "output_type": "stream",
     "text": [
      "Name: 04401088/c87bd717c3640f0f741e88434245c899\n",
      "Voxel Dimensions: (3, 1024)\n",
      "Label: 11 | 04401088 | telephone\n"
     ]
    },
    {
     "data": {
      "application/vnd.jupyter.widget-view+json": {
       "model_id": "b6cfdab0aee648fab932cffab359f9d7",
       "version_major": 2,
       "version_minor": 0
      },
      "text/plain": [
       "Output()"
      ]
     },
     "metadata": {},
     "output_type": "display_data"
    }
   ],
   "source": [
    "# Visualize some shapes\n",
    "from exercise_2.util.visualization import visualize_pointcloud\n",
    "\n",
    "shape_data = train_dataset[np.random.randint(len(train_dataset))]\n",
    "print(f'Name: {shape_data[\"name\"]}')  # expected output: 04379243/d120d47f8c9bc5028640bc5712201c4a\n",
    "print(f'Voxel Dimensions: {shape_data[\"points\"].shape}')  # expected output: (3, 1024)\n",
    "print(f'Label: {shape_data[\"label\"]} | {ShapeNetPoints.classes[shape_data[\"label\"]]} | {ShapeNetPoints.class_name_mapping[ShapeNetPoints.classes[shape_data[\"label\"]]]}')  # expected output: 10, 04379243\n",
    "\n",
    "visualize_pointcloud(shape_data[\"points\"].T, point_size=0.025, flip_axes=True)"
   ]
  },
  {
   "cell_type": "markdown",
   "metadata": {
    "pycharm": {
     "name": "#%% md\n"
    }
   },
   "source": [
    "### (c) Defining the model\n",
    "\n",
    "The model architecture of PointNet was discussed in the lecture and is visualized below:\n",
    "<img src=\"exercise_2/images/pointnet.png\" alt=\"pointnet_architecture\" style=\"width: 800px;\"/>\n",
    "\n",
    "Some hints for the actual implementation:\n",
    "1. We use conv1d layers with kernel size 1 for all \"shared\" mlps to expand the feature channel dimension, e.g. when the input is of shape batch_size x 3 x 1024 and we apply conv1d(in_features=3, out_features=64), then we get to shape batch_size x 64 x 1024\n",
    "2. The mlps in the classification network after the max pooling operation are implemented using Linear layers\n",
    "3. The numbers in parenthesis after mlp() in the visualization above descibe the number of layers with their out_features dimension. Note though that the first mlp from nx3 to nx64 is expressed as two layers in the original tensorflow code but can be implemented as a single conv1d layer going from 3 to 64 features in the pytorch version.\n",
    "4. We define all layers up to and including the max pooling operation as the `PointNetEncoder`. The architecture of the model head depends on the task we are trying to solve: Either classification (`PointNetClassification`, used in this part of the exercise) or segmentation (`PointNetSegmentation`, used in 2.5).\n",
    "5. ReLU and Batch Norms are applied after each layer, except after the last classification layer. In the last layer before the max operation, we only apply Batch Norm but no ReLU.\n",
    "6. Dropout is applied for classification only after the second Linear layer, before the Batch Norm.\n",
    "7. The TNets are basically small PointNets.\n",
    "\n",
    "Implement the missing parts of the PointNet architecture in `TNet`, `PointNetEncoder`, and `PointNetClassification`, as indicated by the TODOs. All of them are located in `exercise_2/models/pointnet.py`. Use the following code cell to sanity check your implementation:"
   ]
  },
  {
   "cell_type": "code",
   "execution_count": 26,
   "metadata": {
    "pycharm": {
     "name": "#%%\n"
    }
   },
   "outputs": [
    {
     "name": "stdout",
     "output_type": "stream",
     "text": [
      "   | Name                                  | Type                   | Params \n",
      "-----------------------------------------------------------------------------------\n",
      "0  | encoder                               | PointNetEncoder        | 2803529\n",
      "1  | encoder.input_transform_net           | TNet                   | 803081 \n",
      "2  | encoder.input_transform_net.conv1     | Sequential             | 384    \n",
      "3  | encoder.input_transform_net.conv1.0   | Conv1d                 | 256    \n",
      "4  | encoder.input_transform_net.conv1.1   | BatchNorm1d            | 128    \n",
      "5  | encoder.input_transform_net.conv1.2   | ReLU                   | 0      \n",
      "6  | encoder.input_transform_net.conv2     | Sequential             | 8576   \n",
      "7  | encoder.input_transform_net.conv2.0   | Conv1d                 | 8320   \n",
      "8  | encoder.input_transform_net.conv2.1   | BatchNorm1d            | 256    \n",
      "9  | encoder.input_transform_net.conv2.2   | ReLU                   | 0      \n",
      "10 | encoder.input_transform_net.conv3     | Sequential             | 134144 \n",
      "11 | encoder.input_transform_net.conv3.0   | Conv1d                 | 132096 \n",
      "12 | encoder.input_transform_net.conv3.1   | BatchNorm1d            | 2048   \n",
      "13 | encoder.input_transform_net.conv3.2   | ReLU                   | 0      \n",
      "14 | encoder.input_transform_net.fc1       | Sequential             | 525824 \n",
      "15 | encoder.input_transform_net.fc1.0     | Linear                 | 524800 \n",
      "16 | encoder.input_transform_net.fc1.1     | BatchNorm1d            | 1024   \n",
      "17 | encoder.input_transform_net.fc1.2     | ReLU                   | 0      \n",
      "18 | encoder.input_transform_net.fc2       | Sequential             | 131840 \n",
      "19 | encoder.input_transform_net.fc2.0     | Linear                 | 131328 \n",
      "20 | encoder.input_transform_net.fc2.1     | BatchNorm1d            | 512    \n",
      "21 | encoder.input_transform_net.fc2.2     | ReLU                   | 0      \n",
      "22 | encoder.input_transform_net.fc3       | Sequential             | 2313   \n",
      "23 | encoder.input_transform_net.fc3.0     | Linear                 | 2313   \n",
      "24 | encoder.mlp1                          | Sequential             | 384    \n",
      "25 | encoder.mlp1.0                        | Conv1d                 | 256    \n",
      "26 | encoder.mlp1.1                        | BatchNorm1d            | 128    \n",
      "27 | encoder.mlp1.2                        | ReLU                   | 0      \n",
      "28 | encoder.feature_transform_net         | TNet                   | 1857344\n",
      "29 | encoder.feature_transform_net.conv1   | Sequential             | 4288   \n",
      "30 | encoder.feature_transform_net.conv1.0 | Conv1d                 | 4160   \n",
      "31 | encoder.feature_transform_net.conv1.1 | BatchNorm1d            | 128    \n",
      "32 | encoder.feature_transform_net.conv1.2 | ReLU                   | 0      \n",
      "33 | encoder.feature_transform_net.conv2   | Sequential             | 8576   \n",
      "34 | encoder.feature_transform_net.conv2.0 | Conv1d                 | 8320   \n",
      "35 | encoder.feature_transform_net.conv2.1 | BatchNorm1d            | 256    \n",
      "36 | encoder.feature_transform_net.conv2.2 | ReLU                   | 0      \n",
      "37 | encoder.feature_transform_net.conv3   | Sequential             | 134144 \n",
      "38 | encoder.feature_transform_net.conv3.0 | Conv1d                 | 132096 \n",
      "39 | encoder.feature_transform_net.conv3.1 | BatchNorm1d            | 2048   \n",
      "40 | encoder.feature_transform_net.conv3.2 | ReLU                   | 0      \n",
      "41 | encoder.feature_transform_net.fc1     | Sequential             | 525824 \n",
      "42 | encoder.feature_transform_net.fc1.0   | Linear                 | 524800 \n",
      "43 | encoder.feature_transform_net.fc1.1   | BatchNorm1d            | 1024   \n",
      "44 | encoder.feature_transform_net.fc1.2   | ReLU                   | 0      \n",
      "45 | encoder.feature_transform_net.fc2     | Sequential             | 131840 \n",
      "46 | encoder.feature_transform_net.fc2.0   | Linear                 | 131328 \n",
      "47 | encoder.feature_transform_net.fc2.1   | BatchNorm1d            | 512    \n",
      "48 | encoder.feature_transform_net.fc2.2   | ReLU                   | 0      \n",
      "49 | encoder.feature_transform_net.fc3     | Sequential             | 1052672\n",
      "50 | encoder.feature_transform_net.fc3.0   | Linear                 | 1052672\n",
      "51 | encoder.mlp2                          | Sequential             | 142720 \n",
      "52 | encoder.mlp2.0                        | Conv1d                 | 8320   \n",
      "53 | encoder.mlp2.1                        | BatchNorm1d            | 256    \n",
      "54 | encoder.mlp2.2                        | ReLU                   | 0      \n",
      "55 | encoder.mlp2.3                        | Conv1d                 | 132096 \n",
      "56 | encoder.mlp2.4                        | BatchNorm1d            | 2048   \n",
      "57 | classification                        | Sequential             | 661005 \n",
      "58 | classification.0                      | Linear                 | 524800 \n",
      "59 | classification.1                      | BatchNorm1d            | 1024   \n",
      "60 | classification.2                      | ReLU                   | 0      \n",
      "61 | classification.3                      | Linear                 | 131328 \n",
      "62 | classification.4                      | Dropout                | 0      \n",
      "63 | classification.5                      | BatchNorm1d            | 512    \n",
      "64 | classification.6                      | ReLU                   | 0      \n",
      "65 | classification.7                      | Linear                 | 3341   \n",
      "66 | TOTAL                                 | PointNetClassification | 3464534\n",
      "Output tensor shape:  torch.Size([8, 13])\n",
      "Number of traininable params: 3.46M\n"
     ]
    }
   ],
   "source": [
    "from exercise_2.model.pointnet import PointNetClassification\n",
    "from exercise_2.util.model import summarize_model\n",
    "\n",
    "pointnet = PointNetClassification(13)\n",
    "print(summarize_model(pointnet))  # Expected: Rows 0-40 and TOTAL = 3464534\n",
    "\n",
    "input_tensor = torch.randn(8, 3, 1024)\n",
    "predictions = pointnet(input_tensor)\n",
    "\n",
    "print('Output tensor shape: ', predictions.shape)  # Expected: 8, 13\n",
    "num_trainable_params = sum(p.numel() for p in pointnet.parameters() if p.requires_grad) / 1e6\n",
    "print(f'Number of traininable params: {num_trainable_params:.2f}M')  # Expected: ~3M"
   ]
  },
  {
   "cell_type": "markdown",
   "metadata": {
    "pycharm": {
     "name": "#%% md\n"
    }
   },
   "source": [
    "### (d) Training Script and Overfitting\n",
    "\n",
    "You can now go to the train script in `train_pointnet_classification.py` and fill in the missing pieces as in 2.3. Then, verify that your training works by overfitting to a few samples below."
   ]
  },
  {
   "cell_type": "code",
   "execution_count": 39,
   "metadata": {
    "pycharm": {
     "name": "#%%\n"
    }
   },
   "outputs": [
    {
     "name": "stdout",
     "output_type": "stream",
     "text": [
      "Using device: cuda:0\n",
      "[049/00001] train_loss: 0.556\n",
      "[049/00001] val_loss: 0.589, val_accuracy: 73.438%\n",
      "[099/00001] train_loss: 0.123\n",
      "[099/00001] val_loss: 0.087, val_accuracy: 96.875%\n",
      "[149/00001] train_loss: 0.082\n",
      "[149/00001] val_loss: 0.112, val_accuracy: 96.875%\n",
      "[199/00001] train_loss: 0.044\n",
      "[199/00001] val_loss: 0.002, val_accuracy: 100.000%\n",
      "[249/00001] train_loss: 0.024\n",
      "[249/00001] val_loss: 0.004, val_accuracy: 100.000%\n",
      "[299/00001] train_loss: 0.015\n",
      "[299/00001] val_loss: 0.001, val_accuracy: 100.000%\n",
      "[349/00001] train_loss: 0.007\n",
      "[349/00001] val_loss: 0.009, val_accuracy: 98.438%\n",
      "[399/00001] train_loss: 0.047\n",
      "[399/00001] val_loss: 0.096, val_accuracy: 93.750%\n",
      "[449/00001] train_loss: 0.045\n",
      "[449/00001] val_loss: 0.004, val_accuracy: 98.438%\n",
      "[499/00001] train_loss: 0.016\n",
      "[499/00001] val_loss: 0.002, val_accuracy: 100.000%\n",
      "[549/00001] train_loss: 0.038\n",
      "[549/00001] val_loss: 0.008, val_accuracy: 100.000%\n",
      "[599/00001] train_loss: 0.029\n",
      "[599/00001] val_loss: 0.001, val_accuracy: 100.000%\n",
      "[649/00001] train_loss: 0.002\n",
      "[649/00001] val_loss: 0.000, val_accuracy: 100.000%\n",
      "[699/00001] train_loss: 0.001\n",
      "[699/00001] val_loss: 0.000, val_accuracy: 100.000%\n",
      "[749/00001] train_loss: 0.011\n",
      "[749/00001] val_loss: 0.000, val_accuracy: 100.000%\n",
      "[799/00001] train_loss: 0.009\n",
      "[799/00001] val_loss: 0.000, val_accuracy: 100.000%\n",
      "[849/00001] train_loss: 0.001\n",
      "[849/00001] val_loss: 0.000, val_accuracy: 100.000%\n",
      "[899/00001] train_loss: 0.062\n",
      "[899/00001] val_loss: 0.005, val_accuracy: 100.000%\n",
      "[949/00001] train_loss: 0.023\n",
      "[949/00001] val_loss: 0.000, val_accuracy: 100.000%\n",
      "[999/00001] train_loss: 0.011\n",
      "[999/00001] val_loss: 0.000, val_accuracy: 100.000%\n"
     ]
    }
   ],
   "source": [
    "from exercise_2.training import train_pointnet_classification\n",
    "config = {\n",
    "    'experiment_name': '2_4_pointnet_classification_overfitting',\n",
    "    'device': 'cuda:0',                   # change this to cpu if you do not have a GPU\n",
    "    'is_overfit': True,                   # True since we're doing overfitting\n",
    "    'batch_size': 32,\n",
    "    'resume_ckpt': None,\n",
    "    'learning_rate': 0.001,\n",
    "    'max_epochs': 1000,\n",
    "    'print_every_n': 100,\n",
    "    'validate_every_n': 100,\n",
    "}\n",
    "\n",
    "train_pointnet_classification.main(config)  # should be able to get ~0 loss, 100% accuracy"
   ]
  },
  {
   "cell_type": "markdown",
   "metadata": {
    "pycharm": {
     "name": "#%% md\n"
    }
   },
   "source": [
    "### (e) Training over the entire training set\n",
    "\n",
    "Once your overfitting completes successfully, you can move on to training on the entire dataset again."
   ]
  },
  {
   "cell_type": "code",
   "execution_count": 40,
   "metadata": {
    "scrolled": true,
    "pycharm": {
     "name": "#%%\n"
    }
   },
   "outputs": [
    {
     "name": "stdout",
     "output_type": "stream",
     "text": [
      "Using device: cuda:0\n",
      "[000/00099] train_loss: 1.164\n",
      "[000/00199] train_loss: 0.699\n",
      "[000/00249] val_loss: 0.004, val_accuracy: 84.077%\n",
      "[000/00299] train_loss: 0.570\n",
      "[000/00399] train_loss: 0.506\n",
      "[000/00499] train_loss: 0.471\n",
      "[000/00499] val_loss: 0.005, val_accuracy: 89.016%\n",
      "[000/00599] train_loss: 0.445\n",
      "[001/00020] train_loss: 0.395\n",
      "[001/00070] val_loss: 0.002, val_accuracy: 86.399%\n",
      "[001/00120] train_loss: 0.426\n",
      "[001/00220] train_loss: 0.398\n",
      "[001/00320] train_loss: 0.348\n",
      "[001/00320] val_loss: 0.003, val_accuracy: 87.726%\n",
      "[001/00420] train_loss: 0.374\n",
      "[001/00520] train_loss: 0.342\n",
      "[001/00570] val_loss: 0.002, val_accuracy: 91.283%\n",
      "[001/00620] train_loss: 0.326\n",
      "[002/00041] train_loss: 0.367\n",
      "[002/00141] train_loss: 0.303\n",
      "[002/00141] val_loss: 0.002, val_accuracy: 89.937%\n",
      "[002/00241] train_loss: 0.341\n",
      "[002/00341] train_loss: 0.315\n",
      "[002/00391] val_loss: 0.002, val_accuracy: 90.804%\n",
      "[002/00441] train_loss: 0.278\n",
      "[002/00541] train_loss: 0.303\n",
      "[002/00641] train_loss: 0.274\n",
      "[002/00641] val_loss: 0.001, val_accuracy: 92.094%\n",
      "[003/00062] train_loss: 0.267\n",
      "[003/00162] train_loss: 0.279\n",
      "[003/00212] val_loss: 0.001, val_accuracy: 91.633%\n",
      "[003/00262] train_loss: 0.263\n",
      "[003/00362] train_loss: 0.291\n",
      "[003/00462] train_loss: 0.255\n",
      "[003/00462] val_loss: 0.001, val_accuracy: 92.868%\n",
      "[003/00562] train_loss: 0.272\n",
      "[003/00662] train_loss: 0.259\n",
      "[004/00033] val_loss: 0.001, val_accuracy: 92.683%\n",
      "[004/00083] train_loss: 0.261\n",
      "[004/00183] train_loss: 0.237\n",
      "[004/00283] train_loss: 0.284\n",
      "[004/00283] val_loss: 0.001, val_accuracy: 89.108%\n",
      "[004/00383] train_loss: 0.279\n",
      "[004/00483] train_loss: 0.261\n",
      "[004/00533] val_loss: 0.001, val_accuracy: 92.591%\n",
      "[004/00583] train_loss: 0.241\n",
      "[005/00004] train_loss: 0.255\n",
      "[005/00104] train_loss: 0.261\n",
      "[005/00104] val_loss: 0.002, val_accuracy: 92.241%\n",
      "[005/00204] train_loss: 0.244\n",
      "[005/00304] train_loss: 0.223\n",
      "[005/00354] val_loss: 0.002, val_accuracy: 91.467%\n",
      "[005/00404] train_loss: 0.254\n",
      "[005/00504] train_loss: 0.233\n",
      "[005/00604] train_loss: 0.256\n",
      "[005/00604] val_loss: 0.002, val_accuracy: 93.034%\n",
      "[006/00025] train_loss: 0.248\n",
      "[006/00125] train_loss: 0.216\n",
      "[006/00175] val_loss: 0.001, val_accuracy: 91.522%\n",
      "[006/00225] train_loss: 0.228\n",
      "[006/00325] train_loss: 0.245\n",
      "[006/00425] train_loss: 0.228\n",
      "[006/00425] val_loss: 0.001, val_accuracy: 92.683%\n",
      "[006/00525] train_loss: 0.226\n",
      "[006/00625] train_loss: 0.220\n",
      "[006/00675] val_loss: 0.001, val_accuracy: 93.034%\n",
      "[007/00046] train_loss: 0.236\n",
      "[007/00146] train_loss: 0.217\n",
      "[007/00246] train_loss: 0.217\n",
      "[007/00246] val_loss: 0.001, val_accuracy: 92.407%\n",
      "[007/00346] train_loss: 0.213\n",
      "[007/00446] train_loss: 0.215\n",
      "[007/00496] val_loss: 0.003, val_accuracy: 92.241%\n",
      "[007/00546] train_loss: 0.224\n",
      "[007/00646] train_loss: 0.237\n",
      "[008/00067] train_loss: 0.209\n",
      "[008/00067] val_loss: 0.001, val_accuracy: 93.550%\n",
      "[008/00167] train_loss: 0.208\n",
      "[008/00267] train_loss: 0.216\n",
      "[008/00317] val_loss: 0.001, val_accuracy: 93.328%\n",
      "[008/00367] train_loss: 0.200\n",
      "[008/00467] train_loss: 0.225\n",
      "[008/00567] train_loss: 0.221\n",
      "[008/00567] val_loss: 0.001, val_accuracy: 91.264%\n",
      "[008/00667] train_loss: 0.203\n",
      "[009/00088] train_loss: 0.221\n",
      "[009/00138] val_loss: 0.001, val_accuracy: 92.720%\n",
      "[009/00188] train_loss: 0.201\n",
      "[009/00288] train_loss: 0.176\n",
      "[009/00388] train_loss: 0.199\n",
      "[009/00388] val_loss: 0.002, val_accuracy: 93.273%\n",
      "[009/00488] train_loss: 0.180\n",
      "[009/00588] train_loss: 0.201\n",
      "[009/00638] val_loss: 0.001, val_accuracy: 93.937%\n"
     ]
    }
   ],
   "source": [
    "from exercise_2.training import train_pointnet_classification\n",
    "config = {\n",
    "    'experiment_name': '2_4_pointnet_classification_generalization',\n",
    "    'device': 'cuda:0',                    # change this to cpu if you do not have a GPU\n",
    "    'is_overfit': False,\n",
    "    'batch_size': 32,\n",
    "    'resume_ckpt': None,\n",
    "    'learning_rate': 0.001,\n",
    "    'max_epochs': 10,\n",
    "    'print_every_n': 100,\n",
    "    'validate_every_n': 250,\n",
    "}\n",
    "\n",
    "train_pointnet_classification.main(config)  # Should be able to get > 92% accuracy on the val set"
   ]
  },
  {
   "cell_type": "markdown",
   "metadata": {
    "pycharm": {
     "name": "#%% md\n"
    }
   },
   "source": [
    "### (f) Inference using the trained model"
   ]
  },
  {
   "cell_type": "code",
   "execution_count": 16,
   "metadata": {
    "pycharm": {
     "name": "#%%\n"
    }
   },
   "outputs": [],
   "source": [
    "from exercise_2.inference.infer_pointnet_classification import InferenceHandlerPointNetClassification\n",
    "\n",
    "\n",
    "# create a handler for inference using a trained checkpoint\n",
    "inferer = InferenceHandlerPointNetClassification('exercise_2/runs/2_4_pointnet_classification_generalization/model_best.ckpt')"
   ]
  },
  {
   "cell_type": "code",
   "execution_count": 17,
   "metadata": {
    "pycharm": {
     "name": "#%%\n"
    }
   },
   "outputs": [
    {
     "name": "stdout",
     "output_type": "stream",
     "text": [
      "Predicted category: chair\n"
     ]
    },
    {
     "data": {
      "application/vnd.jupyter.widget-view+json": {
       "model_id": "0df2caa773144b0d9a8b51c8e5c2aab6",
       "version_major": 2,
       "version_minor": 0
      },
      "text/plain": [
       "Output()"
      ]
     },
     "metadata": {},
     "output_type": "display_data"
    }
   ],
   "source": [
    "# get shape point cloud and visualize\n",
    "shape_points = ShapeNetPoints.get_point_cloud('03001627/f913501826c588e89753496ba23f2183')\n",
    "print('Predicted category:', inferer.infer_single(shape_points))  # expected output: chair\n",
    "visualize_pointcloud(shape_points.T, point_size=0.025, flip_axes=True)"
   ]
  },
  {
   "cell_type": "code",
   "execution_count": 18,
   "metadata": {
    "pycharm": {
     "name": "#%%\n"
    }
   },
   "outputs": [
    {
     "name": "stdout",
     "output_type": "stream",
     "text": [
      "Predicted category: airplane\n"
     ]
    },
    {
     "data": {
      "application/vnd.jupyter.widget-view+json": {
       "model_id": "a4556621a7de4fee8bc5c6035eea8c01",
       "version_major": 2,
       "version_minor": 0
      },
      "text/plain": [
       "Output()"
      ]
     },
     "metadata": {},
     "output_type": "display_data"
    }
   ],
   "source": [
    "# get shape point cloud and visualize\n",
    "shape_points = ShapeNetPoints.get_point_cloud('02691156/6af4383123972f2262b600da24e0965')\n",
    "print('Predicted category:', inferer.infer_single(shape_points))\n",
    "visualize_pointcloud(shape_points.T, point_size=0.025, flip_axes=True)"
   ]
  },
  {
   "cell_type": "code",
   "execution_count": 19,
   "metadata": {
    "pycharm": {
     "name": "#%%\n"
    }
   },
   "outputs": [
    {
     "name": "stdout",
     "output_type": "stream",
     "text": [
      "Predicted category: rifle\n"
     ]
    },
    {
     "data": {
      "application/vnd.jupyter.widget-view+json": {
       "model_id": "5f59f75a76bd4ecd950faf6cf7f77369",
       "version_major": 2,
       "version_minor": 0
      },
      "text/plain": [
       "Output()"
      ]
     },
     "metadata": {},
     "output_type": "display_data"
    }
   ],
   "source": [
    "# get shape point cloud and visualize\n",
    "shape_points = ShapeNetPoints.get_point_cloud('04090263/eae96ddf483e896c805d3d8e378d155e')\n",
    "print('Predicted category:', inferer.infer_single(shape_points))\n",
    "visualize_pointcloud(shape_points.T, point_size=0.025, flip_axes=True)"
   ]
  },
  {
   "cell_type": "markdown",
   "metadata": {
    "pycharm": {
     "name": "#%% md\n"
    }
   },
   "source": [
    "Make sure you submit the trained model `exercise_2/runs/2_4_pointnet_classification_generalization/model_best.ckpt` in your zip\n",
    "so that we can evaluate it on the test set at our end."
   ]
  },
  {
   "cell_type": "markdown",
   "metadata": {
    "pycharm": {
     "name": "#%% md\n"
    }
   },
   "source": [
    "## 2.5. Shape Parts Segmentation using PointNet\n",
    "\n",
    "We now go one step further: We do not just want to learn the overall class label for a given shape but instead for each point in a shape the part it belongs to. We call this Part Segmentation. The good thing is that we can actually re-use most of the PointNet architecture from 2.4."
   ]
  },
  {
   "cell_type": "markdown",
   "metadata": {
    "pycharm": {
     "name": "#%% md\n"
    }
   },
   "source": [
    "### (a) Download the ShapeNetPart dataset\n",
    "\n",
    "Annotating data for segmentation is a lot of effort since labelling has to be performed within the shape for each part instead of globally for the entire shape.\n",
    "\n",
    "Luckily, there are existing datasets we can use for this. In our case, this is the ShapeNet Part Segmenation dataset that you can download in the cell below.\n",
    "\n",
    "In terms of data layout, the general idea of shape class identifiers and shape IDs is the same; we just have slightly different shape categories now. Also, each point cloud now has a correponding file specifying the part class for every point.\n",
    "\n",
    "We put the shape class labels for this dataset in `exercise_2/data/shape_parts_info.json`, analogous to `shape_info.json` from exercise parts 2.3 and 2.4.\n",
    "\n",
    "The point cloud data is stored as pts files which is basically an even simpler version of obj. It omits the v in front of each line that represents a point and does not support faces. Each line therefore represents one point with its xyz coordinates, separated by a space.\n",
    "\n",
    "```\n",
    "# contents of exercise_2/data/shapenetcore_partanno_segmentation_benchmark_v0\n",
    "\n",
    "02691156/                                         # Shape category folder with all its shapes\n",
    "    ├── points                                    # All point clouds go here\n",
    "        ├── 1a04e3eab45ca15dd86060f189eb133.pts   # Point cloud data\n",
    "        ├── 1a32f10b20170883663e90eaf6b4ca52.pts  # Another point cloud\n",
    "        :\n",
    "        :\n",
    "    ├── points_label                              # Part labels for each point in the corresponding pts file\n",
    "        ├── 1a04e3eab45ca15dd86060f189eb133.seg   # Each line represents the local part class of a point\n",
    "        ├── 1a32f10b20170883663e90eaf6b4ca52.seg  # Another segmentation file\n",
    "        :\n",
    "        :\n",
    "    ├── seg_img                                   # Visualizations of the original mesh part segmentation\n",
    "02773838/                                         # Another shape category folder\n",
    "02954340/                                         # In total you should have 16 shape category folders\n",
    ":\n",
    ":\n",
    "train_test_split/                                 # Official split IDs\n",
    "```"
   ]
  },
  {
   "cell_type": "code",
   "execution_count": null,
   "metadata": {
    "pycharm": {
     "name": "#%%\n"
    }
   },
   "outputs": [],
   "source": [
    "print('Downloading ...')\n",
    "!wget https://shapenet.cs.stanford.edu/ericyi/shapenetcore_partanno_segmentation_benchmark_v0.zip --no-check-certificate -P exercise_2/data\n",
    "print('Extracting ...')\n",
    "!unzip -q exercise_2/data/shapenetcore_partanno_segmentation_benchmark_v0.zip -d exercise_2/data\n",
    "!rm exercise_2/data/shapenetcore_partanno_segmentation_benchmark_v0.zip\n",
    "print('Done.')"
   ]
  },
  {
   "cell_type": "markdown",
   "metadata": {
    "pycharm": {
     "name": "#%% md\n"
    }
   },
   "source": [
    "### (b) Dataset implementation\n",
    "\n",
    "You can use the same split setup as in 2.3 and 2.4: `overfit.txt` for overfitting, `train.txt` for the train samples, and `val.txt` for the val samples; This time, use the files in folder `exercise_2/data/splits/shapenet_parts`.\n",
    "\n",
    "The dataset implementation will be similar to 2.3 and 2.4: Fill out the missing implementations of functions `__getitem__` and `__len__` in class `ShapeNetPoints` in `exercise_2/data/shapenet_parts.py`. Note that you now need to load not only the point cloud but also the per-point segmentation labels in function `get_point_cloud_with_labels`. Since each point cloud in this dataset contains more than 1024 points, we also need to sub-sample the raw points list. Use `np.random.choice` for this: Randomizing the sampling will work as augmentation which in turn helps prevent overfitting. Make sure to sample the corresponding points and labels when doing so.\n",
    "\n",
    "Once done, test your implementation below."
   ]
  },
  {
   "cell_type": "code",
   "execution_count": 20,
   "metadata": {
    "pycharm": {
     "name": "#%%\n"
    }
   },
   "outputs": [
    {
     "name": "stdout",
     "output_type": "stream",
     "text": [
      "Length of train set: 12137\n",
      "Length of val set: 1870\n",
      "Length of overfit set: 64\n"
     ]
    }
   ],
   "source": [
    "from exercise_2.data.shapenet_parts import ShapeNetParts\n",
    "\n",
    "# Create a dataset with train split\n",
    "train_dataset = ShapeNetParts('train')\n",
    "val_dataset = ShapeNetParts('val')\n",
    "overfit_dataset = ShapeNetParts('overfit')\n",
    "\n",
    "# Get length, which is a call to __len__ function\n",
    "print(f'Length of train set: {len(train_dataset)}')  # expected output: 12137\n",
    "# Get length, which is a call to __len__ function\n",
    "print(f'Length of val set: {len(val_dataset)}')  # expected output: 1870\n",
    "# Get length, which is a call to __len__ function\n",
    "print(f'Length of overfit set: {len(overfit_dataset)}')  # expected output: 64"
   ]
  },
  {
   "cell_type": "markdown",
   "metadata": {
    "pycharm": {
     "name": "#%% md\n"
    }
   },
   "source": [
    "### (c) Modifying the PointNet Model\n",
    "\n",
    "Take a look at the PointNet architecture again:\n",
    "<img src=\"exercise_2/images/pointnet.png\" alt=\"pointnet_architecture\" style=\"width: 800px;\"/>\n",
    "\n",
    "We only cared about the blue classification part in 2.4. Now, we also want to implement the yellow part. You can re-use your encoder from 2.4. \n",
    "\n",
    "The idea is simple: Take the n points with 64-dimensional point features from the correct layer of the encoder and concatenate the global shape descriptor you get after applying the max function to it. Then, implement the remaining layers as conv1ds with batchnorm and relu after all but the last layer. The final layer reduces the dimensionality per point to m which is 50 in our case since we have 50 overall parts.\n",
    "\n",
    "Add the missing layers to `PointNetSegmentation` in `exercise_2/models/pointnet.py` and finish the implementation of the forward pass."
   ]
  },
  {
   "cell_type": "code",
   "execution_count": 3,
   "metadata": {
    "pycharm": {
     "name": "#%%\n"
    }
   },
   "outputs": [
    {
     "name": "stdout",
     "output_type": "stream",
     "text": [
      "   | Name                                  | Type                 | Params \n",
      "---------------------------------------------------------------------------------\n",
      "0  | encoder                               | PointNetEncoder      | 2803529\n",
      "1  | encoder.input_transform_net           | TNet                 | 803081 \n",
      "2  | encoder.input_transform_net.conv1     | Sequential           | 384    \n",
      "3  | encoder.input_transform_net.conv1.0   | Conv1d               | 256    \n",
      "4  | encoder.input_transform_net.conv1.1   | BatchNorm1d          | 128    \n",
      "5  | encoder.input_transform_net.conv1.2   | ReLU                 | 0      \n",
      "6  | encoder.input_transform_net.conv2     | Sequential           | 8576   \n",
      "7  | encoder.input_transform_net.conv2.0   | Conv1d               | 8320   \n",
      "8  | encoder.input_transform_net.conv2.1   | BatchNorm1d          | 256    \n",
      "9  | encoder.input_transform_net.conv2.2   | ReLU                 | 0      \n",
      "10 | encoder.input_transform_net.conv3     | Sequential           | 134144 \n",
      "11 | encoder.input_transform_net.conv3.0   | Conv1d               | 132096 \n",
      "12 | encoder.input_transform_net.conv3.1   | BatchNorm1d          | 2048   \n",
      "13 | encoder.input_transform_net.conv3.2   | ReLU                 | 0      \n",
      "14 | encoder.input_transform_net.fc1       | Sequential           | 525824 \n",
      "15 | encoder.input_transform_net.fc1.0     | Linear               | 524800 \n",
      "16 | encoder.input_transform_net.fc1.1     | BatchNorm1d          | 1024   \n",
      "17 | encoder.input_transform_net.fc1.2     | ReLU                 | 0      \n",
      "18 | encoder.input_transform_net.fc2       | Sequential           | 131840 \n",
      "19 | encoder.input_transform_net.fc2.0     | Linear               | 131328 \n",
      "20 | encoder.input_transform_net.fc2.1     | BatchNorm1d          | 512    \n",
      "21 | encoder.input_transform_net.fc2.2     | ReLU                 | 0      \n",
      "22 | encoder.input_transform_net.fc3       | Sequential           | 2313   \n",
      "23 | encoder.input_transform_net.fc3.0     | Linear               | 2313   \n",
      "24 | encoder.mlp1                          | Sequential           | 384    \n",
      "25 | encoder.mlp1.0                        | Conv1d               | 256    \n",
      "26 | encoder.mlp1.1                        | BatchNorm1d          | 128    \n",
      "27 | encoder.mlp1.2                        | ReLU                 | 0      \n",
      "28 | encoder.feature_transform_net         | TNet                 | 1857344\n",
      "29 | encoder.feature_transform_net.conv1   | Sequential           | 4288   \n",
      "30 | encoder.feature_transform_net.conv1.0 | Conv1d               | 4160   \n",
      "31 | encoder.feature_transform_net.conv1.1 | BatchNorm1d          | 128    \n",
      "32 | encoder.feature_transform_net.conv1.2 | ReLU                 | 0      \n",
      "33 | encoder.feature_transform_net.conv2   | Sequential           | 8576   \n",
      "34 | encoder.feature_transform_net.conv2.0 | Conv1d               | 8320   \n",
      "35 | encoder.feature_transform_net.conv2.1 | BatchNorm1d          | 256    \n",
      "36 | encoder.feature_transform_net.conv2.2 | ReLU                 | 0      \n",
      "37 | encoder.feature_transform_net.conv3   | Sequential           | 134144 \n",
      "38 | encoder.feature_transform_net.conv3.0 | Conv1d               | 132096 \n",
      "39 | encoder.feature_transform_net.conv3.1 | BatchNorm1d          | 2048   \n",
      "40 | encoder.feature_transform_net.conv3.2 | ReLU                 | 0      \n",
      "41 | encoder.feature_transform_net.fc1     | Sequential           | 525824 \n",
      "42 | encoder.feature_transform_net.fc1.0   | Linear               | 524800 \n",
      "43 | encoder.feature_transform_net.fc1.1   | BatchNorm1d          | 1024   \n",
      "44 | encoder.feature_transform_net.fc1.2   | ReLU                 | 0      \n",
      "45 | encoder.feature_transform_net.fc2     | Sequential           | 131840 \n",
      "46 | encoder.feature_transform_net.fc2.0   | Linear               | 131328 \n",
      "47 | encoder.feature_transform_net.fc2.1   | BatchNorm1d          | 512    \n",
      "48 | encoder.feature_transform_net.fc2.2   | ReLU                 | 0      \n",
      "49 | encoder.feature_transform_net.fc3     | Sequential           | 1052672\n",
      "50 | encoder.feature_transform_net.fc3.0   | Linear               | 1052672\n",
      "51 | encoder.mlp2                          | Sequential           | 142720 \n",
      "52 | encoder.mlp2.0                        | Conv1d               | 8320   \n",
      "53 | encoder.mlp2.1                        | BatchNorm1d          | 256    \n",
      "54 | encoder.mlp2.2                        | ReLU                 | 0      \n",
      "55 | encoder.mlp2.3                        | Conv1d               | 132096 \n",
      "56 | encoder.mlp2.4                        | BatchNorm1d          | 2048   \n",
      "57 | mlp1                                  | Sequential           | 723584 \n",
      "58 | mlp1.0                                | Conv1d               | 557568 \n",
      "59 | mlp1.1                                | BatchNorm1d          | 1024   \n",
      "60 | mlp1.2                                | ReLU                 | 0      \n",
      "61 | mlp1.3                                | Conv1d               | 131328 \n",
      "62 | mlp1.4                                | BatchNorm1d          | 512    \n",
      "63 | mlp1.5                                | ReLU                 | 0      \n",
      "64 | mlp1.6                                | Conv1d               | 32896  \n",
      "65 | mlp1.7                                | BatchNorm1d          | 256    \n",
      "66 | mlp1.8                                | ReLU                 | 0      \n",
      "67 | mlp2                                  | Conv1d               | 6450   \n",
      "68 | TOTAL                                 | PointNetSegmentation | 3533563\n",
      "Output tensor shape:  torch.Size([8, 1024, 50])\n",
      "Number of traininable params: 3.53M\n"
     ]
    }
   ],
   "source": [
    "from exercise_2.model.pointnet import PointNetSegmentation\n",
    "from exercise_2.util.model import summarize_model\n",
    "\n",
    "pointnet = PointNetSegmentation(50)\n",
    "print(summarize_model(pointnet))  # Expected: Rows 0-40 and TOTAL = 3533563\n",
    "\n",
    "input_tensor = torch.randn(8, 3, 1024)\n",
    "predictions = pointnet(input_tensor)\n",
    "\n",
    "print('Output tensor shape: ', predictions.shape)  # Expected: 8, 1024, 50\n",
    "num_trainable_params = sum(p.numel() for p in pointnet.parameters() if p.requires_grad) / 1e6\n",
    "print(f'Number of traininable params: {num_trainable_params:.2f}M')  # Expected: ~3M"
   ]
  },
  {
   "cell_type": "markdown",
   "metadata": {
    "pycharm": {
     "name": "#%% md\n"
    }
   },
   "source": [
    "### (d) Training Script and Overfitting\n",
    "\n",
    "You can now go to the train script in `train_pointnet_segmentation.py` and fill in the missing pieces as in 2.3 and 2.4. Then, verify that your training work by overfitting to a few samples below."
   ]
  },
  {
   "cell_type": "code",
   "execution_count": 21,
   "metadata": {
    "pycharm": {
     "name": "#%%\n"
    }
   },
   "outputs": [
    {
     "name": "stdout",
     "output_type": "stream",
     "text": [
      "Using device: cuda:0\n",
      "[049/00001] train_loss: 1.063\n",
      "[049/00001] val_loss: 0.423, val_accuracy: 86.090%, val_iou: 0.736\n",
      "[099/00001] train_loss: 0.378\n",
      "[099/00001] val_loss: 0.266, val_accuracy: 90.088%, val_iou: 0.825\n",
      "[149/00001] train_loss: 0.247\n",
      "[149/00001] val_loss: 0.175, val_accuracy: 93.205%, val_iou: 0.868\n",
      "[199/00001] train_loss: 0.159\n",
      "[199/00001] val_loss: 0.125, val_accuracy: 95.291%, val_iou: 0.900\n",
      "[249/00001] train_loss: 0.116\n",
      "[249/00001] val_loss: 0.104, val_accuracy: 95.880%, val_iou: 0.903\n",
      "[299/00001] train_loss: 0.108\n",
      "[299/00001] val_loss: 0.106, val_accuracy: 95.830%, val_iou: 0.909\n",
      "[349/00001] train_loss: 0.116\n",
      "[349/00001] val_loss: 0.685, val_accuracy: 83.928%, val_iou: 0.799\n",
      "[399/00001] train_loss: 0.190\n",
      "[399/00001] val_loss: 0.097, val_accuracy: 96.191%, val_iou: 0.916\n",
      "[449/00001] train_loss: 0.095\n",
      "[449/00001] val_loss: 0.078, val_accuracy: 96.890%, val_iou: 0.920\n",
      "[499/00001] train_loss: 0.099\n",
      "[499/00001] val_loss: 0.089, val_accuracy: 96.310%, val_iou: 0.918\n"
     ]
    }
   ],
   "source": [
    "from exercise_2.training import train_pointnet_segmentation\n",
    "config = {\n",
    "    'experiment_name': '2_5_pointnet_segmentation_overfitting',\n",
    "    'device': 'cuda:0',                   # change this to cpu if you do not have a GPU\n",
    "    'is_overfit': True,                   # True since we're doing overfitting\n",
    "    'batch_size': 32,\n",
    "    'resume_ckpt': None,\n",
    "    'learning_rate': 0.001,\n",
    "    'max_epochs': 500,\n",
    "    'print_every_n': 100,\n",
    "    'validate_every_n': 100,\n",
    "}\n",
    "\n",
    "train_pointnet_segmentation.main(config)  # should be able to get <0.1 loss, >97% accuracy, >0.95 iou"
   ]
  },
  {
   "cell_type": "markdown",
   "metadata": {
    "pycharm": {
     "name": "#%% md\n"
    }
   },
   "source": [
    "### (e) Training over the entire training set\n",
    "\n",
    "Once your overfitting completes successfully, you can move on to training on the entire dataset again."
   ]
  },
  {
   "cell_type": "code",
   "execution_count": null,
   "metadata": {
    "scrolled": true,
    "pycharm": {
     "name": "#%%\n"
    }
   },
   "outputs": [
    {
     "name": "stdout",
     "output_type": "stream",
     "text": [
      "Using device: cuda:0\n",
      "[000/00099] train_loss: 1.451\n",
      "[000/00199] train_loss: 0.858\n",
      "[000/00249] val_loss: 0.634, val_accuracy: 78.849%, val_iou: 0.672\n",
      "[000/00299] train_loss: 0.746\n",
      "[001/00019] train_loss: 0.590\n",
      "[001/00119] train_loss: 0.515\n",
      "[001/00119] val_loss: 0.445, val_accuracy: 85.615%, val_iou: 0.731\n",
      "[001/00219] train_loss: 0.472\n",
      "[001/00319] train_loss: 0.474\n",
      "[001/00369] val_loss: 0.581, val_accuracy: 81.850%, val_iou: 0.708\n",
      "[002/00039] train_loss: 0.451\n",
      "[002/00139] train_loss: 0.399\n",
      "[002/00239] train_loss: 0.380\n",
      "[002/00239] val_loss: 0.351, val_accuracy: 87.954%, val_iou: 0.775\n",
      "[002/00339] train_loss: 0.380\n",
      "[003/00059] train_loss: 0.359\n",
      "[003/00109] val_loss: 0.330, val_accuracy: 88.703%, val_iou: 0.788\n",
      "[003/00159] train_loss: 0.337\n",
      "[003/00259] train_loss: 0.334\n",
      "[003/00359] train_loss: 0.344\n",
      "[003/00359] val_loss: 0.325, val_accuracy: 89.268%, val_iou: 0.797\n",
      "[004/00079] train_loss: 0.343\n",
      "[004/00179] train_loss: 0.345\n",
      "[004/00229] val_loss: 0.341, val_accuracy: 88.828%, val_iou: 0.801\n",
      "[004/00279] train_loss: 0.318\n",
      "[004/00379] train_loss: 0.318\n",
      "[005/00099] train_loss: 0.299\n",
      "[005/00099] val_loss: 0.284, val_accuracy: 90.168%, val_iou: 0.808\n",
      "[005/00199] train_loss: 0.314\n",
      "[005/00299] train_loss: 0.284\n",
      "[005/00349] val_loss: 0.314, val_accuracy: 89.301%, val_iou: 0.796\n",
      "[006/00019] train_loss: 0.305\n",
      "[006/00119] train_loss: 0.318\n",
      "[006/00219] train_loss: 0.275\n",
      "[006/00219] val_loss: 0.266, val_accuracy: 90.815%, val_iou: 0.817\n",
      "[006/00319] train_loss: 0.292\n",
      "[007/00039] train_loss: 0.282\n",
      "[007/00089] val_loss: 0.282, val_accuracy: 90.097%, val_iou: 0.809\n",
      "[007/00139] train_loss: 0.281\n",
      "[007/00239] train_loss: 0.273\n",
      "[007/00339] train_loss: 0.294\n",
      "[007/00339] val_loss: 0.263, val_accuracy: 90.977%, val_iou: 0.822\n"
     ]
    }
   ],
   "source": [
    "from exercise_2.training import train_pointnet_segmentation\n",
    "config = {\n",
    "    'experiment_name': '2_5_pointnet_segmentation_generalization',\n",
    "    'device': 'cuda:0',                   # change this to cpu if you do not have a GPU\n",
    "    'is_overfit': False,\n",
    "    'batch_size': 32,\n",
    "    'resume_ckpt': None,\n",
    "    'learning_rate': 0.001,\n",
    "    'max_epochs': 10,\n",
    "    'print_every_n': 100,\n",
    "    'validate_every_n': 250,\n",
    "}\n",
    "\n",
    "train_pointnet_segmentation.main(config)  # Should be able to get > 90% accuracy and > 0.8 iou on the val set"
   ]
  },
  {
   "cell_type": "markdown",
   "metadata": {
    "pycharm": {
     "name": "#%% md\n"
    }
   },
   "source": [
    "### (f) Inference using the trained model"
   ]
  },
  {
   "cell_type": "code",
   "execution_count": null,
   "metadata": {
    "pycharm": {
     "name": "#%%\n"
    }
   },
   "outputs": [],
   "source": [
    "from exercise_2.inference.infer_pointnet_segmentation import InferenceHandlerPointNetSegmentation\n",
    "from exercise_2.util.visualization import visualize_pointcloud\n",
    "from matplotlib import cm, colors\n",
    "import numpy as np\n",
    "\n",
    "# create a handler for inference using a trained checkpoint\n",
    "inferer = InferenceHandlerPointNetSegmentation('exercise_2/runs/2_5_pointnet_segmentation_generalization/model_best.ckpt')"
   ]
  },
  {
   "cell_type": "code",
   "execution_count": null,
   "metadata": {
    "pycharm": {
     "name": "#%%\n"
    }
   },
   "outputs": [],
   "source": [
    "# Get shape point cloud, predict labels, and visualize colored point cloud\n",
    "shape_points = ShapeNetParts.get_point_cloud_with_labels('02691156/1c4b8662938adf41da2b0f839aba40f9')[0]\n",
    "point_labels = inferer.infer_single(shape_points)\n",
    "point_labels = (point_labels - min(point_labels)) / (max(point_labels) - min(point_labels))\n",
    "point_colors = cm.get_cmap('hsv')(point_labels)[:, :3]\n",
    "point_colors = np.sum((point_colors * 255).astype(int) * [255*255, 255, 1], axis=1)\n",
    "visualize_pointcloud(shape_points.T, colors=point_colors, point_size=0.025, flip_axes=True)"
   ]
  },
  {
   "cell_type": "code",
   "execution_count": null,
   "metadata": {
    "pycharm": {
     "name": "#%%\n"
    }
   },
   "outputs": [],
   "source": [
    "# Get shape point cloud, predict labels, and visualize colored point cloud\n",
    "shape_points = ShapeNetParts.get_point_cloud_with_labels('03948459/e017cf5dac1e39b013d74211a209ce')[0]\n",
    "point_labels = inferer.infer_single(shape_points)\n",
    "point_labels = (point_labels - min(point_labels)) / (max(point_labels) - min(point_labels))\n",
    "point_colors = cm.get_cmap('hsv')(point_labels)[:, :3]\n",
    "point_colors = np.sum((point_colors * 255).astype(int) * [255*255, 255, 1], axis=1)\n",
    "visualize_pointcloud(shape_points.T, colors=point_colors, point_size=0.025, flip_axes=True)"
   ]
  },
  {
   "cell_type": "code",
   "execution_count": null,
   "metadata": {
    "pycharm": {
     "name": "#%%\n"
    }
   },
   "outputs": [],
   "source": [
    "# Get shape point cloud, predict labels, and visualize colored point cloud\n",
    "shape_points = ShapeNetParts.get_point_cloud_with_labels('03790512/86b6dc954e1ca8e948272812609617e2')[0]\n",
    "point_labels = inferer.infer_single(shape_points)\n",
    "point_labels = (point_labels - min(point_labels)) / (max(point_labels) - min(point_labels))\n",
    "point_colors = cm.get_cmap('hsv')(point_labels)[:, :3]\n",
    "point_colors = np.sum((point_colors * 255).astype(int) * [255*255, 255, 1], axis=1)\n",
    "visualize_pointcloud(shape_points.T, colors=point_colors, point_size=0.025, flip_axes=True)"
   ]
  },
  {
   "cell_type": "markdown",
   "metadata": {
    "pycharm": {
     "name": "#%% md\n"
    }
   },
   "source": [
    "Make sure you submit the trained model exercise_2/runs/2_5_pointnet_segmentation_generalization/model_best.ckpt in your zip so that we can evaluate it on the test set at our end."
   ]
  },
  {
   "cell_type": "markdown",
   "metadata": {
    "pycharm": {
     "name": "#%% md\n"
    }
   },
   "source": [
    "## Submission\n",
    "\n",
    "This is the end of exercise 2 🙂. Please create a zip containing all files we provided, everything you modified, and all of your generated output/visualization files, including you checkpoints. Name it with your matriculation number(s) as described in exercise 1. Make sure this notebook can be run without problems. Then, submit via Moodle.\n",
    "\n",
    "**Submission Deadline**: 31.11.2022, 23:55"
   ]
  },
  {
   "cell_type": "markdown",
   "metadata": {
    "pycharm": {
     "name": "#%% md\n"
    }
   },
   "source": [
    "## References\n",
    "\n"
   ]
  },
  {
   "cell_type": "markdown",
   "metadata": {
    "pycharm": {
     "name": "#%% md\n"
    }
   },
   "source": [
    "[1] Qi, C. et al. “Volumetric and Multi-view CNNs for Object Classification on 3D Data.” 2016 IEEE Conference on Computer Vision and Pattern Recognition (CVPR) (2016): 5648-5656.\n",
    "\n",
    "[2] Qi, C. et al. “PointNet: Deep Learning on Point Sets for 3D Classification and Segmentation.” 2017 IEEE Conference on Computer Vision and Pattern Recognition (CVPR) (2017): 77-85."
   ]
  },
  {
   "cell_type": "code",
   "execution_count": null,
   "outputs": [],
   "source": [],
   "metadata": {
    "collapsed": false,
    "pycharm": {
     "name": "#%%\n"
    }
   }
  }
 ],
 "metadata": {
  "kernelspec": {
   "display_name": "Python 3 (ipykernel)",
   "language": "python",
   "name": "python3"
  },
  "language_info": {
   "codemirror_mode": {
    "name": "ipython",
    "version": 3
   },
   "file_extension": ".py",
   "mimetype": "text/x-python",
   "name": "python",
   "nbconvert_exporter": "python",
   "pygments_lexer": "ipython3",
   "version": "3.8.13"
  }
 },
 "nbformat": 4,
 "nbformat_minor": 2
}