{
 "cells": [
  {
   "cell_type": "code",
   "execution_count": 1,
   "metadata": {},
   "outputs": [],
   "source": [
    "from collections import OrderedDict\n",
    "from itertools import chain\n",
    "from typing import List, Tuple\n",
    "\n",
    "from matplotlib import pyplot as plt\n",
    "import matplotlib.ticker as ticker\n",
    "import numpy as np\n",
    "from sklearn.model_selection import train_test_split\n",
    "from tqdm.notebook import tqdm"
   ]
  },
  {
   "cell_type": "code",
   "execution_count": 2,
   "metadata": {},
   "outputs": [],
   "source": [
    "%matplotlib inline"
   ]
  },
  {
   "attachments": {},
   "cell_type": "markdown",
   "metadata": {},
   "source": [
    "# Project 5: Graph Neural Networks\n",
    "\n",
    "Given the citation network `Cora ML` we are going to perform semi-supervised node classification (*transductive learning*), i.e. predict the category for each node given a few labels. Each node represents one publication and each edge a citation. The features represent the bag of words of the respective abstract after stemming and stop word removal. These papers are classified into one of the following seven classes:\n",
    "- Case Based\n",
    "- Genetic Algorithms\n",
    "- Neural Networks\n",
    "- Probabilistic Methods\n",
    "- Reinforcement Learning\n",
    "- Rule Learning\n",
    "- Theory"
   ]
  },
  {
   "attachments": {},
   "cell_type": "markdown",
   "metadata": {},
   "source": [
    "## General remarks\n",
    "\n",
    "Do not add or modify any code outside of the following comment blocks, or where otherwise explicitly stated.\n",
    "\n",
    "``` python\n",
    "##########################################################\n",
    "# YOUR CODE HERE\n",
    "...\n",
    "##########################################################\n",
    "```\n",
    "After you fill in all the missing code, restart the kernel and re-run all the cells in the notebook.\n",
    "\n",
    "The following things are **NOT** allowed:\n",
    "- Below we list the allowed packages / no additional `import` statements\n",
    "- Copying / reusing code from other sources (e.g. code by other students)\n",
    "\n",
    "If you plagiarise even for a single project task, you won't be eligible for the bonus this semester.\n",
    "\n",
    "*For scalability reasons, please do not transform sparse matrices to dense (e.g. using `.to_dense()`)*"
   ]
  },
  {
   "attachments": {},
   "cell_type": "markdown",
   "metadata": {},
   "source": [
    "### You are allowed to use the following methods/packages:"
   ]
  },
  {
   "cell_type": "code",
   "execution_count": 3,
   "metadata": {},
   "outputs": [],
   "source": [
    "import torch\n",
    "from torch import nn\n",
    "from torch import sparse as sp\n",
    "from torch.nn import functional as F"
   ]
  },
  {
   "attachments": {},
   "cell_type": "markdown",
   "metadata": {},
   "source": [
    "## Reproducibility\n",
    "For better reproducibility than in the last task - [*still, it might not be perfect*](https://pytorch.org/docs/stable/notes/randomness.html) :-)"
   ]
  },
  {
   "cell_type": "code",
   "execution_count": 4,
   "metadata": {},
   "outputs": [],
   "source": [
    "seed = 42\n",
    "torch.manual_seed(seed)\n",
    "np.random.seed(seed)\n",
    "torch.backends.cudnn.deterministic = True\n",
    "torch.backends.cudnn.benchmark = False"
   ]
  },
  {
   "attachments": {},
   "cell_type": "markdown",
   "metadata": {},
   "source": [
    "## Check if a GPU is available (or overwrite it with `False`)\n",
    "You are allowed to edit this line if it better fits you needs (only to change the value `use_cuda` - *this will affect the results*). However, note that in Artemis you might now have a GPU available so do not include such code in your final submission."
   ]
  },
  {
   "cell_type": "code",
   "execution_count": 5,
   "metadata": {},
   "outputs": [],
   "source": [
    "use_cuda = torch.cuda.is_available() # = False"
   ]
  },
  {
   "attachments": {},
   "cell_type": "markdown",
   "metadata": {},
   "source": [
    "## Load data\n",
    "\n",
    "* `N` = number of publications (nodes in the graph)\n",
    "* `D` = number of features (bag of words one hot representation)\n",
    "<!--* `C` = number of categories-->\n",
    "* The graph is stored as a _sparse torch tensor_ `A` (shape `[N, N]`).\n",
    "* The (binary) Features are stored in a _feature tensor_ `X` (shape `[N, D]`).\n",
    "* The labels are stored in a _vector_ `y` (shape `[N]`)."
   ]
  },
  {
   "cell_type": "code",
   "execution_count": 6,
   "metadata": {},
   "outputs": [
    {
     "data": {
      "text/plain": [
       "(tensor(indices=tensor([[   0,    0,    0,  ..., 2808, 2809, 2809],\n",
       "                        [   0, 1579, 1581,  ..., 2808, 1399, 2809]]),\n",
       "        values=tensor([1., 1., 1.,  ..., 1., 1., 1.]),\n",
       "        device='cuda:0', size=(2810, 2810), nnz=18772, layout=torch.sparse_coo),\n",
       " tensor([[0., 0., 0.,  ..., 0., 0., 0.],\n",
       "         [0., 0., 0.,  ..., 0., 0., 0.],\n",
       "         [0., 0., 0.,  ..., 0., 0., 0.],\n",
       "         ...,\n",
       "         [0., 0., 0.,  ..., 0., 0., 0.],\n",
       "         [0., 0., 0.,  ..., 0., 0., 0.],\n",
       "         [0., 0., 0.,  ..., 0., 0., 0.]], device='cuda:0'),\n",
       " tensor([0, 1, 1,  ..., 4, 6, 3], device='cuda:0'),\n",
       " 2810,\n",
       " 2879,\n",
       " 7)"
      ]
     },
     "execution_count": 6,
     "metadata": {},
     "output_type": "execute_result"
    }
   ],
   "source": [
    "X = torch.load('./X.pt')\n",
    "N, D = X.shape\n",
    "\n",
    "A_indices = torch.load('./A_indices.pt')\n",
    "A = torch.sparse.FloatTensor(A_indices, torch.ones_like(A_indices[0]).float(), (N, N)).coalesce()\n",
    "del A_indices\n",
    "\n",
    "labels = torch.load('./labels.pt')\n",
    "C = labels.max().item() + 1\n",
    "\n",
    "if use_cuda:\n",
    "    A, X, labels = A.cuda(), X.cuda(), labels.cuda()\n",
    "\n",
    "A, X, labels, N, D, C"
   ]
  },
  {
   "attachments": {},
   "cell_type": "markdown",
   "metadata": {},
   "source": [
    "## 1 - Graph Convolutional Network \n",
    "\n",
    "For the graph convolutional layer we are going to use the following update scheme:\n",
    "\n",
    "$$𝐻^{(𝑙+1)}=\\sigma\\left(𝐷^{−\\frac{1}{2}} 𝐴 𝐷^{−\\frac{1}{2}} 𝐻^{(𝑙)} 𝑊{(𝑙)}\\right)$$\n",
    "\n",
    "We use the ReLU for the activation function, but in the last layer where we directly output the raw logits (i.e. no activation at all). With $𝐻^{(0)}$ we denote the node features.\n",
    "\n",
    "\n",
    "### 1.1 - Implementation\n",
    "\n",
    "In this section your task is to implement a GCN in two steps. First we define the message passing / graph convolution module and then use this building block for a GCN.\n",
    "\n",
    "#### 1.1.1 - Graph Convolution Layer / Message Passing \n",
    "\n",
    "We also denote the normalized adjacency matrix as $\\hat{A} = 𝐷^{−\\frac{1}{2}} 𝐴 𝐷^{−\\frac{1}{2}}$. Here you are supposed to implement:\n",
    "\n",
    "$$Z^{(𝑙+1)}=\\hat{A} 𝐻^{(𝑙)} 𝑊{(𝑙)}$$"
   ]
  },
  {
   "cell_type": "code",
   "execution_count": 7,
   "metadata": {},
   "outputs": [],
   "source": [
    "class GraphConvolution(nn.Module):\n",
    "    \"\"\"\n",
    "    Graph Convolution Layer: as proposed in [Kipf et al. 2017](https://arxiv.org/abs/1609.02907).\n",
    "    \n",
    "    Parameters\n",
    "    ----------\n",
    "    in_channels: int\n",
    "        Dimensionality of input channels/features.\n",
    "    out_channels: int\n",
    "        Dimensionality of output channels/features.\n",
    "    \"\"\"\n",
    "\n",
    "    def __init__(self, in_channels: int, out_channels: int):\n",
    "        super().__init__()\n",
    "        self._linear = nn.Linear(in_channels, out_channels, bias=False)\n",
    "\n",
    "    def forward(self, arguments: Tuple[torch.tensor, torch.sparse.FloatTensor]) -> torch.tensor:\n",
    "        \"\"\"\n",
    "        Forward method.\n",
    "        \n",
    "        Parameters\n",
    "        ----------\n",
    "        arguments: Tuple[torch.tensor, torch.sparse.FloatTensor]\n",
    "            Tuple of feature matrix `X` and normalized adjacency matrix `A_hat`\n",
    "            \n",
    "        Returns\n",
    "        ---------\n",
    "        X: torch.tensor\n",
    "            The result of the message passing step\n",
    "        \"\"\"\n",
    "        X, A_hat = arguments\n",
    "        ##########################################################\n",
    "        # YOUR CODE HERE\n",
    "        X = A_hat @ self._linear(X)\n",
    "        ##########################################################\n",
    "        return X"
   ]
  },
  {
   "attachments": {},
   "cell_type": "markdown",
   "metadata": {},
   "source": [
    "#### 1.1.2 - Graph Convolution Network\n",
    "This task to two-fold: (1) you need to calculate `A_hat` in `_normalize(...)` and (2) connect the building blocks in `forward(...)`."
   ]
  },
  {
   "cell_type": "code",
   "execution_count": 8,
   "metadata": {},
   "outputs": [],
   "source": [
    "class GCN(nn.Module):\n",
    "    \"\"\"\n",
    "    Graph Convolution Network: as proposed in [Kipf et al. 2017](https://arxiv.org/abs/1609.02907).\n",
    "    \n",
    "    Parameters\n",
    "    ----------\n",
    "    n_features: int\n",
    "        Dimensionality of input features.\n",
    "    n_classes: int\n",
    "        Number of classes for the semi-supervised node classification.\n",
    "    hidden_dimensions: List[int]\n",
    "        Internal number of features. `len(hidden_dimensions)` defines the number of hidden representations.\n",
    "    activation: nn.Module\n",
    "        The activation for each layer but the last.\n",
    "    dropout: float\n",
    "        The dropout probability.\n",
    "    \"\"\"\n",
    "    \n",
    "    def __init__(self,\n",
    "                 n_features: int,\n",
    "                 n_classes: int,\n",
    "                 hidden_dimensions: List[int] = [64],\n",
    "                 activation: nn.Module = nn.ReLU(),\n",
    "                 dropout: float = 0.5):\n",
    "        super().__init__()\n",
    "        self.n_features = n_features\n",
    "        self.n_classes = n_classes\n",
    "        self.hidden_dimensions = hidden_dimensions\n",
    "        self.propagate = nn.ModuleList(\n",
    "            # Input and hidden layers\n",
    "            [\n",
    "                nn.Sequential(OrderedDict([\n",
    "                    (f'gcn_{idx}', GraphConvolution(in_channels=in_channels,\n",
    "                                                    out_channels=out_channels)),\n",
    "                    (f'activation_{idx}', activation),\n",
    "                    (f'dropout_{idx}', nn.Dropout(p=dropout))\n",
    "                ]))\n",
    "                for idx, (in_channels, out_channels)\n",
    "                in enumerate(zip([n_features] + hidden_dimensions[:-1], hidden_dimensions))\n",
    "            ] \n",
    "            # Output and hidden layer\n",
    "            + [\n",
    "                nn.Sequential(OrderedDict([\n",
    "                    (f'gcn_{len(hidden_dimensions)}', GraphConvolution(in_channels=hidden_dimensions[-1],\n",
    "                                                        out_channels=n_classes))\n",
    "                ]))\n",
    "            ]\n",
    "        )\n",
    "        \n",
    "        \n",
    "    def _normalize(self, A: torch.sparse.FloatTensor) -> torch.tensor:\n",
    "        \"\"\"\n",
    "        For calculating $\\hat{A} = 𝐷^{−\\frac{1}{2}} 𝐴 𝐷^{−\\frac{1}{2}}$.\n",
    "        \n",
    "        Parameters\n",
    "        ----------\n",
    "        A: torch.sparse.FloatTensor\n",
    "            Sparse adjacency matrix with added self-loops.\n",
    "            \n",
    "        Returns\n",
    "        -------\n",
    "        A_hat: torch.sparse.FloatTensor\n",
    "            Normalized message passing matrix\n",
    "        \"\"\"\n",
    "        ##########################################################\n",
    "        # YOUR CODE HERE\n",
    "        row, column = A._indices()\n",
    "        weight_of_edges = A._values()\n",
    "        #device = A.device\n",
    "        device1 = A.device\n",
    "        \n",
    "        degree = (A @ torch.ones(A.shape[0], 1, device=device1)).squeeze()\n",
    "        degree = degree ** (-0.5)\n",
    "        weight_of_edges = degree[row] * weight_of_edges * degree[column]\n",
    "        \n",
    "        A_hat = torch.sparse.FloatTensor(A._indices(), weight_of_edges, A.shape)\n",
    "        ##########################################################\n",
    "        return A_hat\n",
    "\n",
    "    def forward(self, X: torch.Tensor, A: torch.sparse.FloatTensor) -> torch.tensor:\n",
    "        \"\"\"\n",
    "        Forward method.\n",
    "        \n",
    "        Parameters\n",
    "        ----------\n",
    "        X: torch.tensor\n",
    "            Feature matrix `X`\n",
    "        A: torch.sparse.FloatTensor\n",
    "            adjacency matrix `A` (with self-loops)\n",
    "            \n",
    "        Returns\n",
    "        ---------\n",
    "        X: torch.tensor\n",
    "            The result of the last message passing step (i.e. the logits)\n",
    "        \"\"\"\n",
    "        ##########################################################\n",
    "        # YOUR CODE HERE\n",
    "        A_hat = self._normalize(A)\n",
    "        for layer in self.propagate:\n",
    "            X = layer((X, A_hat))\n",
    "        ##########################################################\n",
    "        return X"
   ]
  },
  {
   "cell_type": "code",
   "execution_count": 9,
   "metadata": {},
   "outputs": [
    {
     "data": {
      "text/plain": [
       "GCN(\n",
       "  (propagate): ModuleList(\n",
       "    (0): Sequential(\n",
       "      (gcn_0): GraphConvolution(\n",
       "        (_linear): Linear(in_features=2879, out_features=64, bias=False)\n",
       "      )\n",
       "      (activation_0): ReLU()\n",
       "      (dropout_0): Dropout(p=0.5, inplace=False)\n",
       "    )\n",
       "    (1): Sequential(\n",
       "      (gcn_1): GraphConvolution(\n",
       "        (_linear): Linear(in_features=64, out_features=64, bias=False)\n",
       "      )\n",
       "      (activation_1): ReLU()\n",
       "      (dropout_1): Dropout(p=0.5, inplace=False)\n",
       "    )\n",
       "    (2): Sequential(\n",
       "      (gcn_2): GraphConvolution(\n",
       "        (_linear): Linear(in_features=64, out_features=7, bias=False)\n",
       "      )\n",
       "    )\n",
       "  )\n",
       ")"
      ]
     },
     "execution_count": 9,
     "metadata": {},
     "output_type": "execute_result"
    }
   ],
   "source": [
    "three_layer_gcn = GCN(n_features=D, n_classes=C, hidden_dimensions=[64, 64])\n",
    "if use_cuda:\n",
    "    three_layer_gcn = three_layer_gcn.cuda()\n",
    "    \n",
    "three_layer_gcn"
   ]
  },
  {
   "attachments": {},
   "cell_type": "markdown",
   "metadata": {},
   "source": [
    "### 1.2 - Training \n",
    "In the following we provide the `split` method for obtaining a train/validation/test-split. Subsequently, you will fill in the gap in the training loop:\n",
    "- Calculate the train and validation loss (we refer to slide 23 \"How to Perform Semi-Supervised Node Classification?\" for details).\n",
    "- You are given the `optimizer` and are supposed to perform the backward step.\n",
    "\n",
    "*For performance reasons we propose to calculate the validation error with active dropout (only one forward pass required). As a non-graded side task you may investigate how the validation error differs with deactivated dropout.*"
   ]
  },
  {
   "cell_type": "code",
   "execution_count": 10,
   "metadata": {},
   "outputs": [],
   "source": [
    "def split(labels: np.ndarray,\n",
    "          train_size: float = 0.025,\n",
    "          val_size: float = 0.025,\n",
    "          test_size: float = 0.95,\n",
    "          random_state: int = 42) -> List[np.ndarray]:\n",
    "    \"\"\"Split the arrays or matrices into random train, validation and test subsets.\n",
    "\n",
    "    Parameters\n",
    "    ----------\n",
    "    labels: np.ndarray [n_nodes]\n",
    "        The class labels\n",
    "    train_size: float\n",
    "        Proportion of the dataset included in the train split.\n",
    "    val_size: float\n",
    "        Proportion of the dataset included in the validation split.\n",
    "    test_size: float\n",
    "        Proportion of the dataset included in the test split.\n",
    "    random_state: int\n",
    "        Random_state is the seed used by the random number generator;\n",
    "\n",
    "    Returns\n",
    "    -------\n",
    "    split_train: array-like\n",
    "        The indices of the training nodes\n",
    "    split_val: array-like\n",
    "        The indices of the validation nodes\n",
    "    split_test array-like\n",
    "        The indices of the test nodes\n",
    "\n",
    "    \"\"\"\n",
    "    idx = np.arange(labels.shape[0])\n",
    "    idx_train_and_val, idx_test = train_test_split(idx,\n",
    "                                                   random_state=random_state,\n",
    "                                                   train_size=(train_size + val_size),\n",
    "                                                   test_size=test_size,\n",
    "                                                   stratify=labels)\n",
    "\n",
    "    idx_train, idx_val = train_test_split(idx_train_and_val,\n",
    "                                          random_state=random_state,\n",
    "                                          train_size=(train_size / (train_size + val_size)),\n",
    "                                          test_size=(val_size / (train_size + val_size)),\n",
    "                                          stratify=labels[idx_train_and_val])\n",
    "    \n",
    "    return idx_train, idx_val, idx_test\n",
    "\n",
    "idx_train, idx_val, idx_test = split(labels.cpu().numpy())"
   ]
  },
  {
   "cell_type": "code",
   "execution_count": null,
   "metadata": {},
   "outputs": [],
   "source": [
    "def train(model: nn.Module, \n",
    "          X: torch.Tensor, \n",
    "          A: torch.sparse.FloatTensor, \n",
    "          labels: torch.Tensor, \n",
    "          idx_train: np.ndarray, \n",
    "          idx_val: np.ndarray,\n",
    "          lr: float = 1e-3,\n",
    "          weight_decay: float = 5e-4, \n",
    "          patience: int = 50, \n",
    "          max_epochs: int = 300, \n",
    "          display_step: int = 10):\n",
    "    \"\"\"\n",
    "    Train a model using standard training.\n",
    "    \n",
    "    Parameters\n",
    "    ----------\n",
    "    model: nn.Module\n",
    "        Model which we want to train.\n",
    "    X: torch.Tensor [n, d]\n",
    "        Dense attribute matrix.\n",
    "    A: torch.sparse.FloatTensor [n, n]\n",
    "        Sparse adjacency matrix.\n",
    "    labels: torch.Tensor [n]\n",
    "        Ground-truth labels of all nodes,\n",
    "    idx_train: np.ndarray [?]\n",
    "        Indices of the training nodes.\n",
    "    idx_val: np.ndarray [?]\n",
    "        Indices of the validation nodes.\n",
    "    lr: float\n",
    "        Learning rate.\n",
    "    weight_decay : float\n",
    "        Weight decay.\n",
    "    patience: int\n",
    "        The number of epochs to wait for the validation loss to improve before stopping early.\n",
    "    max_epochs: int\n",
    "        Maximum number of epochs for training.\n",
    "    display_step : int\n",
    "        How often to print information.\n",
    "    seed: int\n",
    "        Seed\n",
    "        \n",
    "    Returns\n",
    "    -------\n",
    "    trace_train: list\n",
    "        A list of values of the train loss during training.\n",
    "    trace_val: list\n",
    "        A list of values of the validation loss during training.\n",
    "    \"\"\"\n",
    "    trace_train = []\n",
    "    trace_val = []\n",
    "    optimizer = torch.optim.Adam(model.parameters(), lr=lr, weight_decay=weight_decay)\n",
    "\n",
    "    best_loss = np.inf\n",
    "    for it in tqdm(range(max_epochs), desc='Training...'):\n",
    "        logits = model(X, A)     \n",
    "        ##########################################################\n",
    "        # YOUR CODE HERE\n",
    "        loss_train = F.cross_entropy(logits[idx_train], labels[idx_train])\n",
    "        loss_val = F.cross_entropy(logits[idx_val], labels[idx_val])\n",
    "        optimizer.zero_grad()\n",
    "        loss_train.backward()\n",
    "        optimizer.step()\n",
    "        ##########################################################\n",
    "        \n",
    "        trace_train.append(loss_train.detach().item())\n",
    "        trace_val.append(loss_val.detach().item())\n",
    "\n",
    "        if loss_val < best_loss:\n",
    "            best_loss = loss_val\n",
    "            best_epoch = it\n",
    "            best_state = {key: value.cpu() for key, value in model.state_dict().items()}\n",
    "        else:\n",
    "            if it >= best_epoch + patience:\n",
    "                break\n",
    "\n",
    "        if display_step > 0 and it % display_step == 0:\n",
    "            print(f'Epoch {it:4}: loss_train: {loss_train.item():.5f}, loss_val: {loss_val.item():.5f} ')\n",
    "\n",
    "    # restore the best validation state\n",
    "    model.load_state_dict(best_state)\n",
    "    return trace_train, trace_val"
   ]
  },
  {
   "cell_type": "code",
   "execution_count": 12,
   "metadata": {},
   "outputs": [
    {
     "data": {
      "application/vnd.jupyter.widget-view+json": {
       "model_id": "c26f4db41bf942468902990f739e41c4",
       "version_major": 2,
       "version_minor": 0
      },
      "text/plain": [
       "HBox(children=(FloatProgress(value=0.0, description='Training...', max=300.0, style=ProgressStyle(description_…"
      ]
     },
     "metadata": {},
     "output_type": "display_data"
    },
    {
     "name": "stdout",
     "output_type": "stream",
     "text": [
      "Epoch    0: loss_train: 1.94535, loss_val: 1.94538 \n",
      "Epoch   10: loss_train: 1.76774, loss_val: 1.83300 \n",
      "Epoch   20: loss_train: 1.44713, loss_val: 1.64607 \n",
      "Epoch   30: loss_train: 1.02763, loss_val: 1.38692 \n",
      "Epoch   40: loss_train: 0.69107, loss_val: 1.09936 \n",
      "Epoch   50: loss_train: 0.43024, loss_val: 0.90897 \n",
      "Epoch   60: loss_train: 0.31732, loss_val: 0.79502 \n",
      "Epoch   70: loss_train: 0.18335, loss_val: 0.79581 \n",
      "Epoch   80: loss_train: 0.15166, loss_val: 0.66731 \n",
      "Epoch   90: loss_train: 0.10380, loss_val: 0.70531 \n",
      "Epoch  100: loss_train: 0.08862, loss_val: 0.68040 \n",
      "Epoch  110: loss_train: 0.06529, loss_val: 0.70883 \n",
      "Epoch  120: loss_train: 0.04267, loss_val: 0.64567 \n",
      "Epoch  130: loss_train: 0.03495, loss_val: 0.71252 \n",
      "\n"
     ]
    },
    {
     "data": {
      "image/png": "[encoded data removed]",
      "text/plain": [
       "<Figure size 432x288 with 1 Axes>"
      ]
     },
     "metadata": {
      "needs_background": "light"
     },
     "output_type": "display_data"
    }
   ],
   "source": [
    "trace_train, trace_val = train(three_layer_gcn, X, A, labels, idx_train, idx_val)\n",
    "\n",
    "plt.plot(trace_train, label='train')\n",
    "plt.plot(trace_val, label='validation')\n",
    "plt.xlabel('Epochs')\n",
    "plt.ylabel('Loss')\n",
    "plt.legend()\n",
    "plt.grid(True)"
   ]
  },
  {
   "attachments": {},
   "cell_type": "markdown",
   "metadata": {},
   "source": [
    "## 2 - Personalized Propagation of Neural Predictions \n",
    "\n",
    "We learned that a GCN comes with several limitations. Some of them are targeted via (Approximate) Personalized Propagation of Neural Predictions (A)PPNP.\n",
    "\n",
    "We use the iterative approach\n",
    "$$𝐻^{(𝑙+1)}= (1−\\alpha) \\delta_{\\text{dropout}} \\hat{A} 𝐻^{(𝑙)} + \\alpha 𝐻^{(0)}$$\n",
    "to approximate the personalized page rank. $\\alpha$ denotes the restart/teleport probability and $𝐻^{(0)}$ the result (i.e. logits) of a feed forward neural network on the input features $𝐻^{(0)}=f_{\\theta}(X)$. Looking at the details of [[Klicpera et al. 2019]](https://arxiv.org/abs/1810.05997) we understand that dropout is applied to the approximate propagation step (see upcoming Section 2.2). In each step, a randomly drawn dropout mask $\\delta_{\\text{dropout}}$ is multiplied with the normalized adjacency matrix $\\hat{A} = 𝐷^{−\\frac{1}{2}} 𝐴 𝐷^{−\\frac{1}{2}}$.\n",
    " \n",
    "### 2.1 - Sparse Dropout \n",
    "\n",
    "Unfortunately, PyTorch's dropout does not work on sparse matrices. However, we simply need to apply dropout to the values of the sparse matrix and then construct the sparse matrix again (`torch.sparse.FloatTensor(...)`)."
   ]
  },
  {
   "cell_type": "code",
   "execution_count": 13,
   "metadata": {},
   "outputs": [],
   "source": [
    "def sparse_dropout(A: torch.sparse.FloatTensor, p: float, training: bool) -> torch.sparse.FloatTensor:\n",
    "    ##########################################################\n",
    "    # YOUR CODE HERE\n",
    "    values = F.dropout(A._values(), p, training) #dropout the values of the original matrix\n",
    "    A = torch.sparse.FloatTensor(A._indices(), values, A.shape)\n",
    "    ##########################################################\n",
    "    return A"
   ]
  },
  {
   "attachments": {},
   "cell_type": "markdown",
   "metadata": {},
   "source": [
    "### 2.2 - Approximate Personalized Pagerank \n",
    "\n",
    "Implementation of the power iteration for approximating the personalized page rank."
   ]
  },
  {
   "cell_type": "code",
   "execution_count": 14,
   "metadata": {},
   "outputs": [],
   "source": [
    "class PowerIterationPageRank(nn.Module):\n",
    "    \"\"\"\n",
    "    Power itertaion module for propagating the labels.\n",
    "    \n",
    "    Parameters\n",
    "    ----------\n",
    "    dropout: float\n",
    "        The dropout probability.\n",
    "    alpha: float\n",
    "        The teleport probability.\n",
    "    n_propagation: int\n",
    "        The number of iterations for approximating the personalized page rank.\n",
    "    \"\"\"\n",
    "    \n",
    "    def __init__(self,\n",
    "                 dropout: float = 0.5,\n",
    "                 alpha: float = 0.15,\n",
    "                 n_propagation: int = 5):\n",
    "        super().__init__()\n",
    "        self.dropout = dropout\n",
    "        self.alpha = alpha\n",
    "        self.n_propagation = n_propagation\n",
    "        \n",
    "    def forward(self, logits: torch.Tensor, A_hat: torch.sparse.FloatTensor) -> torch.tensor:\n",
    "        \"\"\"\n",
    "        Forward method.\n",
    "        \n",
    "        Parameters\n",
    "        ----------\n",
    "        logits: torch.tensor\n",
    "            The local logits (for each node).\n",
    "        A_hat: torch.tensor\n",
    "            The normalized adjacency matrix `A_hat`.\n",
    "            \n",
    "        Returns\n",
    "        ---------\n",
    "        logits: torch.tensor\n",
    "            The propagated/smoothed logits.\n",
    "        \"\"\"\n",
    "        ##########################################################\n",
    "        # YOUR CODE HERE\n",
    "        a = logits\n",
    "        for i in range(self.n_propagation):\n",
    "            A_dropped = sparse_dropout(A_hat, self.dropout, self.training)\n",
    "            logits = (1 - self.alpha)*sp.mm(A_dropped, logits) + self.alpha*a\n",
    "        ##########################################################\n",
    "        return logits"
   ]
  },
  {
   "attachments": {},
   "cell_type": "markdown",
   "metadata": {},
   "source": [
    "### 2.3 - Approximate Personalized Propagation of Neural Predictions \n",
    "\n",
    "Putting it all together (note that we only subclass `GCN` for access to `self._normalize(...)`)."
   ]
  },
  {
   "cell_type": "code",
   "execution_count": 15,
   "metadata": {},
   "outputs": [],
   "source": [
    "class APPNP(GCN):\n",
    "    \"\"\"\n",
    "    Approximate Personalized Propagation of Neural Predictions: as proposed in [Klicpera et al. 2019](https://arxiv.org/abs/1810.05997).\n",
    "    \n",
    "    Parameters\n",
    "    ----------\n",
    "    n_features: int\n",
    "        Dimensionality of input features.\n",
    "    n_classes: int\n",
    "        Number of classes for the semi-supervised node classification.\n",
    "    hidden_dimensions: List[int]\n",
    "        Internal number of features. `len(hidden_dimensions)` defines the number of hidden representations.\n",
    "    activation: nn.Module\n",
    "        The activation for each layer but the last.\n",
    "    dropout: float\n",
    "        The dropout probability.\n",
    "    \"\"\"\n",
    "    \n",
    "    def __init__(self,\n",
    "                 n_features: int,\n",
    "                 n_classes: int,\n",
    "                 hidden_dimensions: List[int] = [64],\n",
    "                 activation: nn.Module = nn.ReLU(),\n",
    "                 dropout: float = 0.5,\n",
    "                 alpha: float = 0.1,\n",
    "                 n_propagation: int = 5):\n",
    "        super().__init__(n_features, n_classes)\n",
    "        self.n_features = n_features\n",
    "        self.n_classes = n_classes\n",
    "        self.hidden_dimensions = hidden_dimensions\n",
    "        self.dropout = dropout\n",
    "        self.transform_features = (\n",
    "            # Input dropout\n",
    "            nn.Sequential(OrderedDict([\n",
    "                (f'dropout_{0}', nn.Dropout(p=self.dropout))\n",
    "            ] \n",
    "            # Hidden layers\n",
    "            + list(chain(*[\n",
    "                [(f'linear_{idx}', nn.Linear(in_features=in_features, out_features=out_features)),\n",
    "                 (f'activation_{idx}', activation)]\n",
    "                for idx, (in_features, out_features)\n",
    "                in enumerate(zip([n_features] + hidden_dimensions[:-1], hidden_dimensions))\n",
    "            ])) \n",
    "            # Last layer\n",
    "            + [\n",
    "                (f'linear_{len(hidden_dimensions)}', nn.Linear(in_features=hidden_dimensions[-1],\n",
    "                                                            out_features=n_classes)),\n",
    "                (f'dropout_{len(hidden_dimensions)}', nn.Dropout(p=self.dropout)),\n",
    "            ]))\n",
    "        )\n",
    "        self.propagate = PowerIterationPageRank(dropout=dropout, \n",
    "                                                 alpha=alpha, \n",
    "                                                 n_propagation=n_propagation)\n",
    "\n",
    "    def forward(self, X: torch.Tensor, A: torch.sparse.FloatTensor) -> torch.tensor:\n",
    "        \"\"\"\n",
    "        Forward method.\n",
    "        \n",
    "        Parameters\n",
    "        ----------\n",
    "        X: torch.tensor\n",
    "            Feature matrix `X`\n",
    "        A: torch.tensor\n",
    "            adjacency matrix `A` (with self-loops)\n",
    "            \n",
    "        Returns\n",
    "        ---------\n",
    "        logits: torch.tensor\n",
    "            The propagated logits.\n",
    "        \"\"\"\n",
    "        ##########################################################\n",
    "        # YOUR CODE HERE\n",
    "        A_hat = self._normalize(A)\n",
    "        logits = self.propagate(self.transform_features(X), A_hat)\n",
    "        ##########################################################\n",
    "        return logits"
   ]
  },
  {
   "cell_type": "code",
   "execution_count": 16,
   "metadata": {},
   "outputs": [
    {
     "data": {
      "text/plain": [
       "APPNP(\n",
       "  (propagate): PowerIterationPageRank()\n",
       "  (transform_features): Sequential(\n",
       "    (dropout_0): Dropout(p=0.5, inplace=False)\n",
       "    (linear_0): Linear(in_features=2879, out_features=64, bias=True)\n",
       "    (activation_0): ReLU()\n",
       "    (linear_1): Linear(in_features=64, out_features=64, bias=True)\n",
       "    (activation_1): ReLU()\n",
       "    (linear_2): Linear(in_features=64, out_features=7, bias=True)\n",
       "    (dropout_2): Dropout(p=0.5, inplace=False)\n",
       "  )\n",
       ")"
      ]
     },
     "execution_count": 16,
     "metadata": {},
     "output_type": "execute_result"
    }
   ],
   "source": [
    "three_layer_appnp = APPNP(n_features=D, n_classes=C, hidden_dimensions=[64, 64])\n",
    "if use_cuda:\n",
    "    three_layer_appnp = three_layer_appnp.cuda()\n",
    "    \n",
    "three_layer_appnp"
   ]
  },
  {
   "cell_type": "code",
   "execution_count": 17,
   "metadata": {},
   "outputs": [
    {
     "data": {
      "application/vnd.jupyter.widget-view+json": {
       "model_id": "6a62c9bb71d249c282c310f5f47f7eb9",
       "version_major": 2,
       "version_minor": 0
      },
      "text/plain": [
       "HBox(children=(FloatProgress(value=0.0, description='Training...', max=300.0, style=ProgressStyle(description_…"
      ]
     },
     "metadata": {},
     "output_type": "display_data"
    },
    {
     "name": "stdout",
     "output_type": "stream",
     "text": [
      "Epoch    0: loss_train: 1.94169, loss_val: 1.94288 \n",
      "Epoch   10: loss_train: 1.76096, loss_val: 1.82466 \n",
      "Epoch   20: loss_train: 1.50441, loss_val: 1.66256 \n",
      "Epoch   30: loss_train: 1.16522, loss_val: 1.51467 \n",
      "Epoch   40: loss_train: 0.97149, loss_val: 1.20999 \n",
      "Epoch   50: loss_train: 0.75596, loss_val: 1.14863 \n",
      "Epoch   60: loss_train: 0.56438, loss_val: 0.94229 \n",
      "Epoch   70: loss_train: 0.57578, loss_val: 0.77185 \n",
      "Epoch   80: loss_train: 0.36513, loss_val: 0.83285 \n",
      "Epoch   90: loss_train: 0.28510, loss_val: 0.72588 \n",
      "Epoch  100: loss_train: 0.35000, loss_val: 0.83552 \n",
      "Epoch  110: loss_train: 0.24819, loss_val: 0.80576 \n",
      "Epoch  120: loss_train: 0.16085, loss_val: 1.06678 \n",
      "Epoch  130: loss_train: 0.22240, loss_val: 0.92401 \n",
      "Epoch  140: loss_train: 0.16471, loss_val: 0.68586 \n",
      "Epoch  150: loss_train: 0.19026, loss_val: 0.77474 \n",
      "Epoch  160: loss_train: 0.28137, loss_val: 0.85045 \n",
      "Epoch  170: loss_train: 0.13335, loss_val: 0.99762 \n",
      "Epoch  180: loss_train: 0.27440, loss_val: 0.82543 \n",
      "Epoch  190: loss_train: 0.21723, loss_val: 0.97216 \n",
      "Epoch  200: loss_train: 0.20151, loss_val: 1.06843 \n",
      "\n"
     ]
    },
    {
     "data": {
      "image/png": "[encoded data removed]",
      "text/plain": [
       "<Figure size 432x288 with 1 Axes>"
      ]
     },
     "metadata": {
      "needs_background": "light"
     },
     "output_type": "display_data"
    }
   ],
   "source": [
    "trace_train, trace_val = train(three_layer_appnp, X, A, labels, idx_train, idx_val)\n",
    "\n",
    "plt.plot(trace_train, label='train')\n",
    "plt.plot(trace_val, label='validation')\n",
    "plt.xlabel('Epochs')\n",
    "plt.ylabel('Loss')\n",
    "plt.legend()\n",
    "plt.grid(True)"
   ]
  },
  {
   "attachments": {},
   "cell_type": "markdown",
   "metadata": {},
   "source": [
    "## 3 - Oversmoothing\n",
    "As we have learned, we should limit the number of message passing steps for a vanilla GCN to prevent oversmoothing. In this section, we are going to analyze this phenomenon via plotting the test accuracy over the number of propagation steps.\n",
    "\n",
    "## 3.1 - Accuracy \n",
    "Please note that you are given the logits (no softmax applied), the labels, and the indices of the test nodes."
   ]
  },
  {
   "cell_type": "code",
   "execution_count": 18,
   "metadata": {},
   "outputs": [],
   "source": [
    "def calc_accuracy(logits: torch.Tensor, labels: torch.Tensor, idx_test: np.ndarray) -> float:\n",
    "    \"\"\"\n",
    "    Calculates the accuracy.\n",
    "    \n",
    "    Parameters\n",
    "    ----------\n",
    "    logits: torch.tensor\n",
    "        The predicted logits.\n",
    "    labels: torch.tensor\n",
    "        The labels vector.\n",
    "    idx_test: torch.tensor\n",
    "        The indices of the test nodes.\n",
    "    \"\"\"\n",
    "    ##########################################################\n",
    "    # YOUR CODE HERE\n",
    "    accuracy = torch.mean((torch.argmax(logits, dim=-1) == labels)[idx_test].to(torch.float32))\n",
    "    ##########################################################\n",
    "    return accuracy"
   ]
  },
  {
   "attachments": {},
   "cell_type": "markdown",
   "metadata": {},
   "source": [
    "## 3.2 - Compare GCN and APPNP \n",
    "\n",
    "Calculate the accuracy (keep in mind that dropout is only applied during training). Subsequently, we plot the accuracies over the numer of propagation steps."
   ]
  },
  {
   "cell_type": "code",
   "execution_count": 19,
   "metadata": {},
   "outputs": [
    {
     "data": {
      "application/vnd.jupyter.widget-view+json": {
       "model_id": "2a9200f5e0864e3d9d7dad127e475b75",
       "version_major": 2,
       "version_minor": 0
      },
      "text/plain": [
       "HBox(children=(FloatProgress(value=0.0, description='Training...', max=300.0, style=ProgressStyle(description_…"
      ]
     },
     "metadata": {},
     "output_type": "display_data"
    },
    {
     "data": {
      "application/vnd.jupyter.widget-view+json": {
       "model_id": "72d1bac7de434d52ac859a2cd2b35f75",
       "version_major": 2,
       "version_minor": 0
      },
      "text/plain": [
       "HBox(children=(FloatProgress(value=0.0, description='Training...', max=300.0, style=ProgressStyle(description_…"
      ]
     },
     "metadata": {},
     "output_type": "display_data"
    },
    {
     "data": {
      "application/vnd.jupyter.widget-view+json": {
       "model_id": "47c78e9f92874e4396ac9a56743b8a3f",
       "version_major": 2,
       "version_minor": 0
      },
      "text/plain": [
       "HBox(children=(FloatProgress(value=0.0, description='Training...', max=300.0, style=ProgressStyle(description_…"
      ]
     },
     "metadata": {},
     "output_type": "display_data"
    },
    {
     "data": {
      "application/vnd.jupyter.widget-view+json": {
       "model_id": "314077c8a4a94e24bb985f627aefb520",
       "version_major": 2,
       "version_minor": 0
      },
      "text/plain": [
       "HBox(children=(FloatProgress(value=0.0, description='Training...', max=300.0, style=ProgressStyle(description_…"
      ]
     },
     "metadata": {},
     "output_type": "display_data"
    },
    {
     "name": "stdout",
     "output_type": "stream",
     "text": [
      "\n",
      "\n"
     ]
    },
    {
     "data": {
      "application/vnd.jupyter.widget-view+json": {
       "model_id": "db582b82af694c008d84fa1ad072889c",
       "version_major": 2,
       "version_minor": 0
      },
      "text/plain": [
       "HBox(children=(FloatProgress(value=0.0, description='Training...', max=300.0, style=ProgressStyle(description_…"
      ]
     },
     "metadata": {},
     "output_type": "display_data"
    },
    {
     "data": {
      "application/vnd.jupyter.widget-view+json": {
       "model_id": "88f6b3ea9e08408898b0536a881e49bc",
       "version_major": 2,
       "version_minor": 0
      },
      "text/plain": [
       "HBox(children=(FloatProgress(value=0.0, description='Training...', max=300.0, style=ProgressStyle(description_…"
      ]
     },
     "metadata": {},
     "output_type": "display_data"
    },
    {
     "name": "stdout",
     "output_type": "stream",
     "text": [
      "\n",
      "\n"
     ]
    },
    {
     "data": {
      "application/vnd.jupyter.widget-view+json": {
       "model_id": "2571bf4bd4444f14bf248025de09d772",
       "version_major": 2,
       "version_minor": 0
      },
      "text/plain": [
       "HBox(children=(FloatProgress(value=0.0, description='Training...', max=300.0, style=ProgressStyle(description_…"
      ]
     },
     "metadata": {},
     "output_type": "display_data"
    },
    {
     "data": {
      "application/vnd.jupyter.widget-view+json": {
       "model_id": "c4a9015586f54ca59d6432f2a96c6dae",
       "version_major": 2,
       "version_minor": 0
      },
      "text/plain": [
       "HBox(children=(FloatProgress(value=0.0, description='Training...', max=300.0, style=ProgressStyle(description_…"
      ]
     },
     "metadata": {},
     "output_type": "display_data"
    },
    {
     "data": {
      "application/vnd.jupyter.widget-view+json": {
       "model_id": "2ea3bec1435e40a09954e9b8c433c1b1",
       "version_major": 2,
       "version_minor": 0
      },
      "text/plain": [
       "HBox(children=(FloatProgress(value=0.0, description='Training...', max=300.0, style=ProgressStyle(description_…"
      ]
     },
     "metadata": {},
     "output_type": "display_data"
    },
    {
     "data": {
      "application/vnd.jupyter.widget-view+json": {
       "model_id": "399e15f09baa4680aa6a76983347c429",
       "version_major": 2,
       "version_minor": 0
      },
      "text/plain": [
       "HBox(children=(FloatProgress(value=0.0, description='Training...', max=300.0, style=ProgressStyle(description_…"
      ]
     },
     "metadata": {},
     "output_type": "display_data"
    },
    {
     "name": "stdout",
     "output_type": "stream",
     "text": [
      "\n",
      "\n",
      "\n"
     ]
    },
    {
     "data": {
      "application/vnd.jupyter.widget-view+json": {
       "model_id": "7db06990d36b4252bc82fb86cdbddfb6",
       "version_major": 2,
       "version_minor": 0
      },
      "text/plain": [
       "HBox(children=(FloatProgress(value=0.0, description='Training...', max=300.0, style=ProgressStyle(description_…"
      ]
     },
     "metadata": {},
     "output_type": "display_data"
    },
    {
     "data": {
      "application/vnd.jupyter.widget-view+json": {
       "model_id": "a920e7bc86464d6b9a166d8f78361ff3",
       "version_major": 2,
       "version_minor": 0
      },
      "text/plain": [
       "HBox(children=(FloatProgress(value=0.0, description='Training...', max=300.0, style=ProgressStyle(description_…"
      ]
     },
     "metadata": {},
     "output_type": "display_data"
    }
   ],
   "source": [
    "n_hidden_dimensions = 64\n",
    "n_propagations = [1,2,3,4,5,10]\n",
    "\n",
    "test_accuracy_gcn = []\n",
    "for n_propagation in n_propagations:\n",
    "    model = GCN(n_features=D, n_classes=C, hidden_dimensions=n_propagation*[n_hidden_dimensions])\n",
    "    if use_cuda:\n",
    "        model = model.cuda()\n",
    "    train(model, X, A, labels, idx_train, idx_val, display_step=-1)\n",
    "    ##########################################################\n",
    "    # YOUR CODE HERE\n",
    "    model.eval()\n",
    "    logits = model(X, A)\n",
    "    accuracy = calc_accuracy(logits, labels, idx_test).cpu()\n",
    "    ##########################################################\n",
    "    test_accuracy_gcn.append(accuracy)\n",
    "    \n",
    "test_accuracy_appnp = []\n",
    "for n_propagation in n_propagations:\n",
    "    model = APPNP(n_features=D, n_classes=C, n_propagation=n_propagation)\n",
    "    if use_cuda:\n",
    "        model = model.cuda()\n",
    "    train(model, X, A, labels, idx_train, idx_val, display_step=-1)\n",
    "    ##########################################################\n",
    "    # YOUR CODE HERE\n",
    "    model.eval()\n",
    "    logits = model(X, A)\n",
    "    accuracy = calc_accuracy(logits, labels, idx_test).cpu()\n",
    "    ##########################################################\n",
    "    test_accuracy_appnp.append(accuracy)"
   ]
  },
  {
   "cell_type": "code",
   "execution_count": 20,
   "metadata": {},
   "outputs": [
    {
     "data": {
      "image/png": "[encoded data removed]",
      "text/plain": [
       "<Figure size 432x288 with 1 Axes>"
      ]
     },
     "metadata": {
      "needs_background": "light"
     },
     "output_type": "display_data"
    }
   ],
   "source": [
    "plt.plot(n_propagations, test_accuracy_gcn, label='GCN', marker='.')\n",
    "plt.plot(n_propagations, test_accuracy_appnp, label='APPNP', marker='.')\n",
    "plt.xlabel('Message passing steps')\n",
    "plt.ylabel('Accuracy')\n",
    "plt.ylim(0.7, 0.9)\n",
    "plt.gca().xaxis.set_major_locator(ticker.MultipleLocator(1))\n",
    "plt.legend()\n",
    "plt.grid(True)"
   ]
  },
  {
   "cell_type": "code",
   "execution_count": null,
   "metadata": {},
   "outputs": [],
   "source": []
  }
 ],
 "metadata": {
  "kernelspec": {
   "display_name": "Python 3",
   "language": "python",
   "name": "python3"
  },
  "language_info": {
   "codemirror_mode": {
    "name": "ipython",
    "version": 3
   },
   "file_extension": ".py",
   "mimetype": "text/x-python",
   "name": "python",
   "nbconvert_exporter": "python",
   "pygments_lexer": "ipython3",
   "version": "3.7.10"
  }
 },
 "nbformat": 4,
 "nbformat_minor": 4
}
