{
 "cells": [
  {
   "cell_type": "code",
   "execution_count": 1,
   "metadata": {},
   "outputs": [],
   "source": [
    "%load_ext autoreload\n",
    "%autoreload 2\n",
    "import torch\n",
    "from torch.optim import Adam\n",
    "from matplotlib import pyplot as plt\n",
    "from utils import get_mnist_data, get_device\n",
    "from models import ConvNN, SmoothClassifier\n",
    "from training_and_evaluation import train_model\n",
    "from torch.nn.functional import cross_entropy"
   ]
  },
  {
   "cell_type": "markdown",
   "metadata": {},
   "source": [
    "# Project 2, part 3: Randomized smoothing training (60 pt)\n",
    "In this notebook we train a smooth classifier via the principle of randomized smoothing.\n",
    "\n",
    "## Your task\n",
    "Complete the missing code in the respective files, i.e. `models.py`, and this notebook. Make sure that all the functions follow the provided specification, i.e. the output of the function exactly matches the description in the docstring. \n",
    "\n",
    "Specifically, for this part you will have to implement the following functions / classes:  \n",
    "**`models.py`**:\n",
    "* `SmoothClassifier`:\n",
    " * `certify` (20pt)\n",
    " * `predict` (20pt)\n",
    " * `_sample_noise_predictions` (20pt)\n",
    "\n",
    "## General remarks\n",
    "Do not add or modify any code outside of the following comment blocks, or where otherwise explicitly stated.\n",
    "\n",
    "``` python\n",
    "##########################################################\n",
    "# YOUR CODE HERE\n",
    "...\n",
    "##########################################################\n",
    "```\n",
    "After you fill in all the missing code, restart the kernel and re-run all the cells in the notebook.\n",
    "\n",
    "The following things are **NOT** allowed:\n",
    "- Using additional `import` statements\n",
    "- Copying / reusing code from other sources (e.g. code by other students)\n",
    "\n",
    "Note that plagiarising even a single project task will make you ineligible for the bonus this semester."
   ]
  },
  {
   "cell_type": "code",
   "execution_count": 2,
   "metadata": {},
   "outputs": [],
   "source": [
    "mnist_trainset = get_mnist_data(train=True)\n",
    "mnist_testset = get_mnist_data(train=False)\n",
    "device = get_device()\n",
    "\n",
    "base_classifier = ConvNN().to(device)"
   ]
  },
  {
   "cell_type": "code",
   "execution_count": 3,
   "metadata": {},
   "outputs": [],
   "source": [
    "sigma = 1\n",
    "batch_size = 128\n",
    "lr = 1e-3\n",
    "epochs = 1"
   ]
  },
  {
   "cell_type": "markdown",
   "metadata": {},
   "source": [
    "### Creating a smooth classifier\n",
    "Implement the `SmoothClassifier` class in `models.py` and follow the docstrings there."
   ]
  },
  {
   "cell_type": "code",
   "execution_count": 4,
   "metadata": {},
   "outputs": [],
   "source": [
    "model = SmoothClassifier(base_classifier=base_classifier, num_classes=10,\n",
    "                         sigma=sigma)\n",
    "opt = Adam(model.parameters(), lr=lr)"
   ]
  },
  {
   "cell_type": "code",
   "execution_count": 5,
   "metadata": {},
   "outputs": [],
   "source": [
    "def loss_function(x, y, model):\n",
    "    logits = model(x).cpu()\n",
    "    loss = cross_entropy(logits, y)\n",
    "    return loss, logits"
   ]
  },
  {
   "cell_type": "code",
   "execution_count": 6,
   "metadata": {},
   "outputs": [
    {
     "data": {
      "text/plain": "  0%|          | 0/469 [00:00<?, ?it/s]",
      "application/vnd.jupyter.widget-view+json": {
       "version_major": 2,
       "version_minor": 0,
       "model_id": "e3f771b726e14e6fa6bc8cebd07164ab"
      }
     },
     "metadata": {},
     "output_type": "display_data"
    }
   ],
   "source": [
    "losses, accuracies = train_model(model, mnist_trainset, batch_size, device,\n",
    "                                 loss_function=loss_function, optimizer=opt)"
   ]
  },
  {
   "cell_type": "code",
   "execution_count": 7,
   "metadata": {},
   "outputs": [],
   "source": [
    "torch.save(model.base_classifier.state_dict(), \n",
    "           \"models/randomized_smoothing.checkpoint\")"
   ]
  },
  {
   "cell_type": "code",
   "execution_count": 8,
   "metadata": {},
   "outputs": [
    {
     "data": {
      "text/plain": "<Figure size 720x216 with 2 Axes>",
      "image/png": "[encoded data removed]"
     },
     "metadata": {
      "needs_background": "light"
     },
     "output_type": "display_data"
    }
   ],
   "source": [
    "fig = plt.figure(figsize=(10,3))\n",
    "plt.subplot(121)\n",
    "plt.plot(losses)\n",
    "plt.xlabel(\"Iteration\")\n",
    "plt.ylabel(\"Training Loss\")\n",
    "plt.subplot(122)\n",
    "plt.plot(accuracies)\n",
    "plt.xlabel(\"Iteration\")\n",
    "plt.ylabel(\"Training Accuracy\")\n",
    "plt.show()"
   ]
  },
  {
   "cell_type": "code",
   "execution_count": 9,
   "metadata": {},
   "outputs": [
    {
     "name": "stdout",
     "output_type": "stream",
     "text": [
      "tensor([  2,  26, 365,   7,   9,   0, 591,   0,   0,   0])\n"
     ]
    }
   ],
   "source": [
    "## test _sample_noise_predictions\n",
    "from torch.utils.data import DataLoader\n",
    "train_loader = DataLoader(mnist_trainset, batch_size=batch_size, shuffle=True)\n",
    "x,y = next(iter(train_loader))\n",
    "n = 1000\n",
    "parallel_size = 1000\n",
    "inputs = x[0, :, :, :]\n",
    "inputs = inputs[None]\n",
    "y_hat_smooth = model._sample_noise_predictions(inputs=inputs, num_samples=n, batch_size=parallel_size)\n",
    "print(y_hat_smooth)"
   ]
  },
  {
   "cell_type": "markdown",
   "metadata": {
    "pycharm": {
     "name": "#%% md\n"
    }
   },
   "source": [
    "### TESTING\n",
    "Below are coded added by us to test the functions implemented for this notebook"
   ]
  },
  {
   "cell_type": "code",
   "execution_count": null,
   "outputs": [],
   "source": [
    "## test predict\n",
    "from torch.utils.data import DataLoader\n",
    "train_loader = DataLoader(mnist_trainset, batch_size=batch_size, shuffle=True)\n",
    "x,y = next(iter(train_loader))\n",
    "n = 1000\n",
    "parallel_size = 1000\n",
    "alpha = 0.05\n",
    "inputs = x[0, :, :, :]\n",
    "inputs = inputs[None]\n",
    "test_result = model.predict(inputs=inputs, num_samples=n, alpha=alpha, batch_size=parallel_size)\n",
    "print(test_result)"
   ],
   "metadata": {
    "collapsed": false,
    "pycharm": {
     "name": "#%%\n"
    }
   }
  },
  {
   "cell_type": "code",
   "execution_count": 11,
   "outputs": [
    {
     "name": "stdout",
     "output_type": "stream",
     "text": [
      "1 1.2801391142152023\n"
     ]
    }
   ],
   "source": [
    "## test certify\n",
    "from torch.utils.data import DataLoader\n",
    "train_loader = DataLoader(mnist_trainset, batch_size=batch_size, shuffle=True)\n",
    "x,y = next(iter(train_loader))\n",
    "n0 = 100\n",
    "n = 1000\n",
    "parallel_size = 1000\n",
    "alpha = 0.9\n",
    "inputs = x[0, :, :, :]\n",
    "inputs = inputs[None]\n",
    "top_class, radius = model.certify(inputs=inputs, n0=n0, num_samples=n, alpha=alpha, batch_size=parallel_size)\n",
    "print(top_class, radius)"
   ],
   "metadata": {
    "collapsed": false,
    "pycharm": {
     "name": "#%%\n"
    }
   }
  },
  {
   "cell_type": "code",
   "execution_count": 11,
   "outputs": [],
   "source": [],
   "metadata": {
    "collapsed": false,
    "pycharm": {
     "name": "#%%\n"
    }
   }
  }
 ],
 "metadata": {
  "kernelspec": {
   "display_name": "Python [conda env:mlgs] *",
   "language": "python",
   "name": "conda-env-mlgs-py"
  },
  "language_info": {
   "codemirror_mode": {
    "name": "ipython",
    "version": 3
   },
   "file_extension": ".py",
   "mimetype": "text/x-python",
   "name": "python",
   "nbconvert_exporter": "python",
   "pygments_lexer": "ipython3",
   "version": "3.8.8"
  }
 },
 "nbformat": 4,
 "nbformat_minor": 4
}