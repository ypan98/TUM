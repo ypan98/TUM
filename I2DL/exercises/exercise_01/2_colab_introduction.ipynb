{
 "cells": [
  {
   "cell_type": "markdown",
   "metadata": {
    "colab_type": "text",
    "id": "JUgOrRxl0sKq"
   },
   "source": [
    "## Google Colab\n",
    "\n",
    "Google provides a free cloud service based on Jupyter Notebooks that supports free CPU and GPU. It allows you to develop deep learning applications using popular libraries such as PyTorch, TensorFlow, Keras, and OpenCV (without installation). All these libraries are pre-installed on Google Colab along wilt Python."
   ]
  },
  {
   "cell_type": "markdown",
   "metadata": {},
   "source": [
    "### 1. Notebook Creation\n",
    "\n",
    "Login with your account and got to [google colab](https://colab.research.google.com). You will be prompted to either create a new notebook or you can also upload your `.ipynb` notebook from your Github, Google Drive or your local machine.\n",
    "\n",
    "<img src=\"./images/colab_upload.png\">"
   ]
  },
  {
   "cell_type": "markdown",
   "metadata": {},
   "source": [
    "Once you have created the notebook, you can rename it by clicking on notebook name in the upper right corner.\n",
    "<img src=\"./images/colab_rename.png\">\n",
    "\n",
    "\n",
    "All your notebooks will be saved in your Google Drive inside the directory `Colab Notebooks`."
   ]
  },
  {
   "cell_type": "markdown",
   "metadata": {},
   "source": [
    "### 2. Dataset\n",
    "\n",
    "In upcoming assignments you would need data to train your model. The best way to use colab with your dataset is to upload your dataset to google drive and the mount your drive. You can do so with the following command"
   ]
  },
  {
   "cell_type": "code",
   "execution_count": null,
   "metadata": {
    "colab": {
     "base_uri": "https://localhost:8080/",
     "height": 34
    },
    "colab_type": "code",
    "id": "nyfGOBXU7cjL",
    "outputId": "f2c83b83-9633-403c-fe4e-5750acd9c33d"
   },
   "outputs": [],
   "source": [
    "from google.colab import drive \n",
    "drive.mount(\"/content/gdrive\", force_remount=True)"
   ]
  },
  {
   "cell_type": "markdown",
   "metadata": {
    "colab_type": "text",
    "id": "hAvnynvP0sKv"
   },
   "source": [
    "Now you should see your drive on the left-hand side of the screen!.(You may need to hit \"refresh\" if it doesn't occur immediately)\n",
    "\n",
    "<img src=\"./images/colab_mount.png\">"
   ]
  },
  {
   "cell_type": "markdown",
   "metadata": {
    "colab_type": "text",
    "id": "YddOu3Bc0sKx"
   },
   "source": [
    "### 3. Installing python libraries\n",
    "\n",
    "In general you would not need to install anything, but in case you have then you can do so inside the notebook with the following command."
   ]
  },
  {
   "cell_type": "code",
   "execution_count": null,
   "metadata": {},
   "outputs": [],
   "source": [
    "!pip3 install torch torchvision"
   ]
  },
  {
   "cell_type": "markdown",
   "metadata": {},
   "source": [
    "<img src=\"./images/colab_install.png\">"
   ]
  },
  {
   "cell_type": "markdown",
   "metadata": {},
   "source": [
    "### 4. Download Notebooks\n",
    "\n",
    "Your notebooks are automatically saved in your google drive. But if you need to download them, you can do so by `File` -> `Download .ipynb`"
   ]
  }
 ],
 "metadata": {
  "accelerator": "GPU",
  "colab": {
   "collapsed_sections": [],
   "machine_shape": "hm",
   "name": "xgb_colab.ipynb",
   "provenance": [],
   "toc_visible": true,
   "version": "0.3.2"
  },
  "kernelspec": {
   "display_name": "Python 3",
   "language": "python",
   "name": "python3"
  },
  "language_info": {
   "codemirror_mode": {
    "name": "ipython",
    "version": 3
   },
   "file_extension": ".py",
   "mimetype": "text/x-python",
   "name": "python",
   "nbconvert_exporter": "python",
   "pygments_lexer": "ipython3",
   "version": "3.7.6"
  }
 },
 "nbformat": 4,
 "nbformat_minor": 1
}
